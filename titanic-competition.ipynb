{
 "cells": [
  {
   "cell_type": "code",
   "execution_count": 1,
   "id": "db0f6fc8",
   "metadata": {
    "_cell_guid": "b1076dfc-b9ad-4769-8c92-a6c4dae69d19",
    "_uuid": "8f2839f25d086af736a60e9eeb907d3b93b6e0e5",
    "execution": {
     "iopub.execute_input": "2024-06-03T19:35:49.002387Z",
     "iopub.status.busy": "2024-06-03T19:35:49.001972Z",
     "iopub.status.idle": "2024-06-03T19:35:49.949151Z",
     "shell.execute_reply": "2024-06-03T19:35:49.947974Z"
    },
    "papermill": {
     "duration": 0.959972,
     "end_time": "2024-06-03T19:35:49.951651",
     "exception": false,
     "start_time": "2024-06-03T19:35:48.991679",
     "status": "completed"
    },
    "tags": []
   },
   "outputs": [
    {
     "name": "stdout",
     "output_type": "stream",
     "text": [
      "/kaggle/input/titanic/train.csv\n",
      "/kaggle/input/titanic/test.csv\n",
      "/kaggle/input/titanic/gender_submission.csv\n"
     ]
    }
   ],
   "source": [
    "# This Python 3 environment comes with many helpful analytics libraries installed\n",
    "# It is defined by the kaggle/python Docker image: https://github.com/kaggle/docker-python\n",
    "# For example, here's several helpful packages to load\n",
    "\n",
    "import numpy as np # linear algebra\n",
    "import pandas as pd # data processing, CSV file I/O (e.g. pd.read_csv)\n",
    "\n",
    "# Input data files are available in the read-only \"../input/\" directory\n",
    "# For example, running this (by clicking run or pressing Shift+Enter) will list all files under the input directory\n",
    "\n",
    "import os\n",
    "for dirname, _, filenames in os.walk('/kaggle/input'):\n",
    "    for filename in filenames:\n",
    "        print(os.path.join(dirname, filename))\n",
    "\n",
    "# You can write up to 20GB to the current directory (/kaggle/working/) that gets preserved as output when you create a version using \"Save & Run All\" \n",
    "# You can also write temporary files to /kaggle/temp/, but they won't be saved outside of the current session"
   ]
  },
  {
   "cell_type": "code",
   "execution_count": 2,
   "id": "de5c411f",
   "metadata": {
    "execution": {
     "iopub.execute_input": "2024-06-03T19:35:49.969767Z",
     "iopub.status.busy": "2024-06-03T19:35:49.969215Z",
     "iopub.status.idle": "2024-06-03T19:35:50.016752Z",
     "shell.execute_reply": "2024-06-03T19:35:50.015536Z"
    },
    "papermill": {
     "duration": 0.059621,
     "end_time": "2024-06-03T19:35:50.019431",
     "exception": false,
     "start_time": "2024-06-03T19:35:49.959810",
     "status": "completed"
    },
    "tags": []
   },
   "outputs": [
    {
     "data": {
      "text/html": [
       "<div>\n",
       "<style scoped>\n",
       "    .dataframe tbody tr th:only-of-type {\n",
       "        vertical-align: middle;\n",
       "    }\n",
       "\n",
       "    .dataframe tbody tr th {\n",
       "        vertical-align: top;\n",
       "    }\n",
       "\n",
       "    .dataframe thead th {\n",
       "        text-align: right;\n",
       "    }\n",
       "</style>\n",
       "<table border=\"1\" class=\"dataframe\">\n",
       "  <thead>\n",
       "    <tr style=\"text-align: right;\">\n",
       "      <th></th>\n",
       "      <th>PassengerId</th>\n",
       "      <th>Survived</th>\n",
       "      <th>Pclass</th>\n",
       "      <th>Name</th>\n",
       "      <th>Sex</th>\n",
       "      <th>Age</th>\n",
       "      <th>SibSp</th>\n",
       "      <th>Parch</th>\n",
       "      <th>Ticket</th>\n",
       "      <th>Fare</th>\n",
       "      <th>Cabin</th>\n",
       "      <th>Embarked</th>\n",
       "    </tr>\n",
       "  </thead>\n",
       "  <tbody>\n",
       "    <tr>\n",
       "      <th>0</th>\n",
       "      <td>1</td>\n",
       "      <td>0</td>\n",
       "      <td>3</td>\n",
       "      <td>Braund, Mr. Owen Harris</td>\n",
       "      <td>male</td>\n",
       "      <td>22.0</td>\n",
       "      <td>1</td>\n",
       "      <td>0</td>\n",
       "      <td>A/5 21171</td>\n",
       "      <td>7.2500</td>\n",
       "      <td>NaN</td>\n",
       "      <td>S</td>\n",
       "    </tr>\n",
       "    <tr>\n",
       "      <th>1</th>\n",
       "      <td>2</td>\n",
       "      <td>1</td>\n",
       "      <td>1</td>\n",
       "      <td>Cumings, Mrs. John Bradley (Florence Briggs Th...</td>\n",
       "      <td>female</td>\n",
       "      <td>38.0</td>\n",
       "      <td>1</td>\n",
       "      <td>0</td>\n",
       "      <td>PC 17599</td>\n",
       "      <td>71.2833</td>\n",
       "      <td>C85</td>\n",
       "      <td>C</td>\n",
       "    </tr>\n",
       "    <tr>\n",
       "      <th>2</th>\n",
       "      <td>3</td>\n",
       "      <td>1</td>\n",
       "      <td>3</td>\n",
       "      <td>Heikkinen, Miss. Laina</td>\n",
       "      <td>female</td>\n",
       "      <td>26.0</td>\n",
       "      <td>0</td>\n",
       "      <td>0</td>\n",
       "      <td>STON/O2. 3101282</td>\n",
       "      <td>7.9250</td>\n",
       "      <td>NaN</td>\n",
       "      <td>S</td>\n",
       "    </tr>\n",
       "    <tr>\n",
       "      <th>3</th>\n",
       "      <td>4</td>\n",
       "      <td>1</td>\n",
       "      <td>1</td>\n",
       "      <td>Futrelle, Mrs. Jacques Heath (Lily May Peel)</td>\n",
       "      <td>female</td>\n",
       "      <td>35.0</td>\n",
       "      <td>1</td>\n",
       "      <td>0</td>\n",
       "      <td>113803</td>\n",
       "      <td>53.1000</td>\n",
       "      <td>C123</td>\n",
       "      <td>S</td>\n",
       "    </tr>\n",
       "    <tr>\n",
       "      <th>4</th>\n",
       "      <td>5</td>\n",
       "      <td>0</td>\n",
       "      <td>3</td>\n",
       "      <td>Allen, Mr. William Henry</td>\n",
       "      <td>male</td>\n",
       "      <td>35.0</td>\n",
       "      <td>0</td>\n",
       "      <td>0</td>\n",
       "      <td>373450</td>\n",
       "      <td>8.0500</td>\n",
       "      <td>NaN</td>\n",
       "      <td>S</td>\n",
       "    </tr>\n",
       "  </tbody>\n",
       "</table>\n",
       "</div>"
      ],
      "text/plain": [
       "   PassengerId  Survived  Pclass  \\\n",
       "0            1         0       3   \n",
       "1            2         1       1   \n",
       "2            3         1       3   \n",
       "3            4         1       1   \n",
       "4            5         0       3   \n",
       "\n",
       "                                                Name     Sex   Age  SibSp  \\\n",
       "0                            Braund, Mr. Owen Harris    male  22.0      1   \n",
       "1  Cumings, Mrs. John Bradley (Florence Briggs Th...  female  38.0      1   \n",
       "2                             Heikkinen, Miss. Laina  female  26.0      0   \n",
       "3       Futrelle, Mrs. Jacques Heath (Lily May Peel)  female  35.0      1   \n",
       "4                           Allen, Mr. William Henry    male  35.0      0   \n",
       "\n",
       "   Parch            Ticket     Fare Cabin Embarked  \n",
       "0      0         A/5 21171   7.2500   NaN        S  \n",
       "1      0          PC 17599  71.2833   C85        C  \n",
       "2      0  STON/O2. 3101282   7.9250   NaN        S  \n",
       "3      0            113803  53.1000  C123        S  \n",
       "4      0            373450   8.0500   NaN        S  "
      ]
     },
     "execution_count": 2,
     "metadata": {},
     "output_type": "execute_result"
    }
   ],
   "source": [
    "train_data = pd.read_csv(\"/kaggle/input/titanic/train.csv\")\n",
    "train_data.head()"
   ]
  },
  {
   "cell_type": "code",
   "execution_count": 3,
   "id": "f5629c56",
   "metadata": {
    "execution": {
     "iopub.execute_input": "2024-06-03T19:35:50.038467Z",
     "iopub.status.busy": "2024-06-03T19:35:50.038074Z",
     "iopub.status.idle": "2024-06-03T19:35:50.061163Z",
     "shell.execute_reply": "2024-06-03T19:35:50.060049Z"
    },
    "papermill": {
     "duration": 0.035636,
     "end_time": "2024-06-03T19:35:50.063980",
     "exception": false,
     "start_time": "2024-06-03T19:35:50.028344",
     "status": "completed"
    },
    "tags": []
   },
   "outputs": [
    {
     "data": {
      "text/html": [
       "<div>\n",
       "<style scoped>\n",
       "    .dataframe tbody tr th:only-of-type {\n",
       "        vertical-align: middle;\n",
       "    }\n",
       "\n",
       "    .dataframe tbody tr th {\n",
       "        vertical-align: top;\n",
       "    }\n",
       "\n",
       "    .dataframe thead th {\n",
       "        text-align: right;\n",
       "    }\n",
       "</style>\n",
       "<table border=\"1\" class=\"dataframe\">\n",
       "  <thead>\n",
       "    <tr style=\"text-align: right;\">\n",
       "      <th></th>\n",
       "      <th>PassengerId</th>\n",
       "      <th>Pclass</th>\n",
       "      <th>Name</th>\n",
       "      <th>Sex</th>\n",
       "      <th>Age</th>\n",
       "      <th>SibSp</th>\n",
       "      <th>Parch</th>\n",
       "      <th>Ticket</th>\n",
       "      <th>Fare</th>\n",
       "      <th>Cabin</th>\n",
       "      <th>Embarked</th>\n",
       "    </tr>\n",
       "  </thead>\n",
       "  <tbody>\n",
       "    <tr>\n",
       "      <th>0</th>\n",
       "      <td>892</td>\n",
       "      <td>3</td>\n",
       "      <td>Kelly, Mr. James</td>\n",
       "      <td>male</td>\n",
       "      <td>34.5</td>\n",
       "      <td>0</td>\n",
       "      <td>0</td>\n",
       "      <td>330911</td>\n",
       "      <td>7.8292</td>\n",
       "      <td>NaN</td>\n",
       "      <td>Q</td>\n",
       "    </tr>\n",
       "    <tr>\n",
       "      <th>1</th>\n",
       "      <td>893</td>\n",
       "      <td>3</td>\n",
       "      <td>Wilkes, Mrs. James (Ellen Needs)</td>\n",
       "      <td>female</td>\n",
       "      <td>47.0</td>\n",
       "      <td>1</td>\n",
       "      <td>0</td>\n",
       "      <td>363272</td>\n",
       "      <td>7.0000</td>\n",
       "      <td>NaN</td>\n",
       "      <td>S</td>\n",
       "    </tr>\n",
       "    <tr>\n",
       "      <th>2</th>\n",
       "      <td>894</td>\n",
       "      <td>2</td>\n",
       "      <td>Myles, Mr. Thomas Francis</td>\n",
       "      <td>male</td>\n",
       "      <td>62.0</td>\n",
       "      <td>0</td>\n",
       "      <td>0</td>\n",
       "      <td>240276</td>\n",
       "      <td>9.6875</td>\n",
       "      <td>NaN</td>\n",
       "      <td>Q</td>\n",
       "    </tr>\n",
       "    <tr>\n",
       "      <th>3</th>\n",
       "      <td>895</td>\n",
       "      <td>3</td>\n",
       "      <td>Wirz, Mr. Albert</td>\n",
       "      <td>male</td>\n",
       "      <td>27.0</td>\n",
       "      <td>0</td>\n",
       "      <td>0</td>\n",
       "      <td>315154</td>\n",
       "      <td>8.6625</td>\n",
       "      <td>NaN</td>\n",
       "      <td>S</td>\n",
       "    </tr>\n",
       "    <tr>\n",
       "      <th>4</th>\n",
       "      <td>896</td>\n",
       "      <td>3</td>\n",
       "      <td>Hirvonen, Mrs. Alexander (Helga E Lindqvist)</td>\n",
       "      <td>female</td>\n",
       "      <td>22.0</td>\n",
       "      <td>1</td>\n",
       "      <td>1</td>\n",
       "      <td>3101298</td>\n",
       "      <td>12.2875</td>\n",
       "      <td>NaN</td>\n",
       "      <td>S</td>\n",
       "    </tr>\n",
       "  </tbody>\n",
       "</table>\n",
       "</div>"
      ],
      "text/plain": [
       "   PassengerId  Pclass                                          Name     Sex  \\\n",
       "0          892       3                              Kelly, Mr. James    male   \n",
       "1          893       3              Wilkes, Mrs. James (Ellen Needs)  female   \n",
       "2          894       2                     Myles, Mr. Thomas Francis    male   \n",
       "3          895       3                              Wirz, Mr. Albert    male   \n",
       "4          896       3  Hirvonen, Mrs. Alexander (Helga E Lindqvist)  female   \n",
       "\n",
       "    Age  SibSp  Parch   Ticket     Fare Cabin Embarked  \n",
       "0  34.5      0      0   330911   7.8292   NaN        Q  \n",
       "1  47.0      1      0   363272   7.0000   NaN        S  \n",
       "2  62.0      0      0   240276   9.6875   NaN        Q  \n",
       "3  27.0      0      0   315154   8.6625   NaN        S  \n",
       "4  22.0      1      1  3101298  12.2875   NaN        S  "
      ]
     },
     "execution_count": 3,
     "metadata": {},
     "output_type": "execute_result"
    }
   ],
   "source": [
    "test_data = pd.read_csv(\"/kaggle/input/titanic/test.csv\")\n",
    "test_data.head()"
   ]
  },
  {
   "cell_type": "code",
   "execution_count": 4,
   "id": "54c21fec",
   "metadata": {
    "execution": {
     "iopub.execute_input": "2024-06-03T19:35:50.083178Z",
     "iopub.status.busy": "2024-06-03T19:35:50.082779Z",
     "iopub.status.idle": "2024-06-03T19:35:50.095471Z",
     "shell.execute_reply": "2024-06-03T19:35:50.094357Z"
    },
    "papermill": {
     "duration": 0.025284,
     "end_time": "2024-06-03T19:35:50.098194",
     "exception": false,
     "start_time": "2024-06-03T19:35:50.072910",
     "status": "completed"
    },
    "tags": []
   },
   "outputs": [
    {
     "name": "stdout",
     "output_type": "stream",
     "text": [
      "% of women who survived: 0.7420382165605095\n"
     ]
    }
   ],
   "source": [
    "women = train_data.loc[train_data.Sex == 'female'][\"Survived\"]\n",
    "rate_women = sum(women)/len(women)\n",
    "\n",
    "print(\"% of women who survived:\", rate_women)"
   ]
  },
  {
   "cell_type": "code",
   "execution_count": 5,
   "id": "a699f54a",
   "metadata": {
    "execution": {
     "iopub.execute_input": "2024-06-03T19:35:50.117373Z",
     "iopub.status.busy": "2024-06-03T19:35:50.116972Z",
     "iopub.status.idle": "2024-06-03T19:35:50.124689Z",
     "shell.execute_reply": "2024-06-03T19:35:50.123735Z"
    },
    "papermill": {
     "duration": 0.020265,
     "end_time": "2024-06-03T19:35:50.127154",
     "exception": false,
     "start_time": "2024-06-03T19:35:50.106889",
     "status": "completed"
    },
    "tags": []
   },
   "outputs": [
    {
     "name": "stdout",
     "output_type": "stream",
     "text": [
      "% of men who survived: 0.18890814558058924\n"
     ]
    }
   ],
   "source": [
    "men = train_data.loc[train_data.Sex == 'male'][\"Survived\"]\n",
    "rate_men = sum(men)/len(men)\n",
    "\n",
    "print(\"% of men who survived:\", rate_men)"
   ]
  },
  {
   "cell_type": "code",
   "execution_count": 6,
   "id": "00f1cc17",
   "metadata": {
    "execution": {
     "iopub.execute_input": "2024-06-03T19:35:50.146346Z",
     "iopub.status.busy": "2024-06-03T19:35:50.145990Z",
     "iopub.status.idle": "2024-06-03T19:35:50.152810Z",
     "shell.execute_reply": "2024-06-03T19:35:50.151681Z"
    },
    "papermill": {
     "duration": 0.019473,
     "end_time": "2024-06-03T19:35:50.155431",
     "exception": false,
     "start_time": "2024-06-03T19:35:50.135958",
     "status": "completed"
    },
    "tags": []
   },
   "outputs": [
    {
     "name": "stdout",
     "output_type": "stream",
     "text": [
      "0    0\n",
      "1    1\n",
      "2    1\n",
      "3    1\n",
      "4    0\n",
      "Name: Survived, dtype: int64\n"
     ]
    }
   ],
   "source": [
    "print(train_data[\"Survived\"].head())"
   ]
  },
  {
   "cell_type": "code",
   "execution_count": 7,
   "id": "ede7b9d5",
   "metadata": {
    "execution": {
     "iopub.execute_input": "2024-06-03T19:35:50.175729Z",
     "iopub.status.busy": "2024-06-03T19:35:50.174581Z",
     "iopub.status.idle": "2024-06-03T19:35:50.186603Z",
     "shell.execute_reply": "2024-06-03T19:35:50.185224Z"
    },
    "papermill": {
     "duration": 0.024893,
     "end_time": "2024-06-03T19:35:50.189298",
     "exception": false,
     "start_time": "2024-06-03T19:35:50.164405",
     "status": "completed"
    },
    "tags": []
   },
   "outputs": [
    {
     "name": "stdout",
     "output_type": "stream",
     "text": [
      "   PassengerId  Survived  Pclass  \\\n",
      "0            1         0       3   \n",
      "1            2         1       1   \n",
      "2            3         1       3   \n",
      "3            4         1       1   \n",
      "4            5         0       3   \n",
      "\n",
      "                                                Name     Sex   Age  SibSp  \\\n",
      "0                            Braund, Mr. Owen Harris    male  22.0      1   \n",
      "1  Cumings, Mrs. John Bradley (Florence Briggs Th...  female  38.0      1   \n",
      "2                             Heikkinen, Miss. Laina  female  26.0      0   \n",
      "3       Futrelle, Mrs. Jacques Heath (Lily May Peel)  female  35.0      1   \n",
      "4                           Allen, Mr. William Henry    male  35.0      0   \n",
      "\n",
      "   Parch            Ticket     Fare Cabin Embarked  \n",
      "0      0         A/5 21171   7.2500   NaN        S  \n",
      "1      0          PC 17599  71.2833   C85        C  \n",
      "2      0  STON/O2. 3101282   7.9250   NaN        S  \n",
      "3      0            113803  53.1000  C123        S  \n",
      "4      0            373450   8.0500   NaN        S  \n"
     ]
    }
   ],
   "source": [
    "print(train_data.head())"
   ]
  },
  {
   "cell_type": "code",
   "execution_count": 8,
   "id": "dc1ad9fd",
   "metadata": {
    "execution": {
     "iopub.execute_input": "2024-06-03T19:35:50.209328Z",
     "iopub.status.busy": "2024-06-03T19:35:50.208932Z",
     "iopub.status.idle": "2024-06-03T19:35:51.898628Z",
     "shell.execute_reply": "2024-06-03T19:35:51.897130Z"
    },
    "papermill": {
     "duration": 1.702977,
     "end_time": "2024-06-03T19:35:51.901423",
     "exception": false,
     "start_time": "2024-06-03T19:35:50.198446",
     "status": "completed"
    },
    "tags": []
   },
   "outputs": [],
   "source": [
    "from sklearn.ensemble import RandomForestClassifier\n",
    "\n",
    "y = train_data[\"Survived\"]\n",
    "\n",
    "features = [\"Pclass\", \"Sex\", \"SibSp\", \"Parch\", \"Fare\", \"Age\"]\n",
    "#features = [\"Pclass\", \"Sex\", \"SibSp\", \"Parch\", \"Age\"]\n",
    "X = pd.get_dummies(train_data[features])\n"
   ]
  },
  {
   "cell_type": "code",
   "execution_count": 9,
   "id": "74c6e68f",
   "metadata": {
    "execution": {
     "iopub.execute_input": "2024-06-03T19:35:51.921321Z",
     "iopub.status.busy": "2024-06-03T19:35:51.920916Z",
     "iopub.status.idle": "2024-06-03T19:35:51.933402Z",
     "shell.execute_reply": "2024-06-03T19:35:51.932364Z"
    },
    "papermill": {
     "duration": 0.025382,
     "end_time": "2024-06-03T19:35:51.935814",
     "exception": false,
     "start_time": "2024-06-03T19:35:51.910432",
     "status": "completed"
    },
    "tags": []
   },
   "outputs": [],
   "source": [
    "X[\"Age\"] = X[\"Age\"].fillna(X[\"Age\"].mean())\n",
    "X[\"Fare\"] = X[\"Fare\"].fillna(X[\"Fare\"].mean())\n",
    "\n",
    "X_test = pd.get_dummies(test_data[features])\n",
    "X_test[\"Age\"] = X_test[\"Age\"].fillna(X[\"Age\"].mean())\n",
    "X_test[\"Fare\"] = X_test[\"Fare\"].fillna(X[\"Fare\"].mean())"
   ]
  },
  {
   "cell_type": "code",
   "execution_count": 10,
   "id": "a9708169",
   "metadata": {
    "execution": {
     "iopub.execute_input": "2024-06-03T19:35:51.955782Z",
     "iopub.status.busy": "2024-06-03T19:35:51.955351Z",
     "iopub.status.idle": "2024-06-03T19:35:51.965478Z",
     "shell.execute_reply": "2024-06-03T19:35:51.964360Z"
    },
    "papermill": {
     "duration": 0.023665,
     "end_time": "2024-06-03T19:35:51.968602",
     "exception": false,
     "start_time": "2024-06-03T19:35:51.944937",
     "status": "completed"
    },
    "tags": []
   },
   "outputs": [
    {
     "name": "stdout",
     "output_type": "stream",
     "text": [
      "0    2.0\n",
      "1    2.0\n",
      "2    1.0\n",
      "3    2.0\n",
      "4    1.0\n",
      "dtype: float64\n",
      "0     3.62500\n",
      "1    35.64165\n",
      "2     7.92500\n",
      "3    26.55000\n",
      "4     8.05000\n",
      "dtype: float64\n"
     ]
    }
   ],
   "source": [
    "temp = (X[\"SibSp\"] + X[\"Parch\"] + 1.0)\n",
    "print(temp.head())\n",
    "temp2 = X[\"Fare\"] / temp\n",
    "print(temp2.head())\n",
    "temp2[temp2 < 0.01] = 0.01"
   ]
  },
  {
   "cell_type": "code",
   "execution_count": 11,
   "id": "6a42abef",
   "metadata": {
    "execution": {
     "iopub.execute_input": "2024-06-03T19:35:51.988565Z",
     "iopub.status.busy": "2024-06-03T19:35:51.988172Z",
     "iopub.status.idle": "2024-06-03T19:35:51.994096Z",
     "shell.execute_reply": "2024-06-03T19:35:51.992753Z"
    },
    "papermill": {
     "duration": 0.018815,
     "end_time": "2024-06-03T19:35:51.996459",
     "exception": false,
     "start_time": "2024-06-03T19:35:51.977644",
     "status": "completed"
    },
    "tags": []
   },
   "outputs": [],
   "source": [
    "#Ahh, a fare of zero causes the whole value to be zero :()\n",
    "for t in temp2:\n",
    "    if (t < 0.01):\n",
    "        print(t)\n",
    "        t = 0.01"
   ]
  },
  {
   "cell_type": "code",
   "execution_count": 12,
   "id": "ab1493de",
   "metadata": {
    "execution": {
     "iopub.execute_input": "2024-06-03T19:35:52.016784Z",
     "iopub.status.busy": "2024-06-03T19:35:52.016283Z",
     "iopub.status.idle": "2024-06-03T19:35:52.022335Z",
     "shell.execute_reply": "2024-06-03T19:35:52.021166Z"
    },
    "papermill": {
     "duration": 0.019011,
     "end_time": "2024-06-03T19:35:52.024874",
     "exception": false,
     "start_time": "2024-06-03T19:35:52.005863",
     "status": "completed"
    },
    "tags": []
   },
   "outputs": [],
   "source": [
    "# Try to make the fare more useful\n",
    "X[\"Fare\"] = np.log(temp2)"
   ]
  },
  {
   "cell_type": "code",
   "execution_count": 13,
   "id": "72f4a8f4",
   "metadata": {
    "execution": {
     "iopub.execute_input": "2024-06-03T19:35:52.045319Z",
     "iopub.status.busy": "2024-06-03T19:35:52.044892Z",
     "iopub.status.idle": "2024-06-03T19:35:52.054925Z",
     "shell.execute_reply": "2024-06-03T19:35:52.053644Z"
    },
    "papermill": {
     "duration": 0.023137,
     "end_time": "2024-06-03T19:35:52.057369",
     "exception": false,
     "start_time": "2024-06-03T19:35:52.034232",
     "status": "completed"
    },
    "tags": []
   },
   "outputs": [
    {
     "name": "stdout",
     "output_type": "stream",
     "text": [
      "   Pclass  SibSp  Parch      Fare   Age  Sex_female  Sex_male\n",
      "0       3      1      0  1.287854  22.0       False      True\n",
      "1       1      1      0  3.573515  38.0        True     False\n",
      "2       3      0      0  2.070022  26.0        True     False\n",
      "3       1      1      0  3.279030  35.0        True     False\n",
      "4       3      0      0  2.085672  35.0       False      True\n"
     ]
    }
   ],
   "source": [
    "print(X.head())"
   ]
  },
  {
   "cell_type": "code",
   "execution_count": 14,
   "id": "857b1181",
   "metadata": {
    "execution": {
     "iopub.execute_input": "2024-06-03T19:35:52.079894Z",
     "iopub.status.busy": "2024-06-03T19:35:52.078841Z",
     "iopub.status.idle": "2024-06-03T19:35:52.321967Z",
     "shell.execute_reply": "2024-06-03T19:35:52.320494Z"
    },
    "papermill": {
     "duration": 0.257387,
     "end_time": "2024-06-03T19:35:52.324505",
     "exception": false,
     "start_time": "2024-06-03T19:35:52.067118",
     "status": "completed"
    },
    "tags": []
   },
   "outputs": [
    {
     "name": "stdout",
     "output_type": "stream",
     "text": [
      "Your submission was successfully saved!\n"
     ]
    }
   ],
   "source": [
    "\n",
    "\n",
    "model = RandomForestClassifier(n_estimators=77, max_depth=12, random_state=1)\n",
    "model.fit(X, y)\n",
    "predictions = model.predict(X_test)\n",
    "\n",
    "output = pd.DataFrame({'PassengerId': test_data.PassengerId, 'Survived': predictions})\n",
    "output.to_csv('submission.csv', index=False)\n",
    "print(\"Your submission was successfully saved!\")"
   ]
  },
  {
   "cell_type": "markdown",
   "id": "e75ac867",
   "metadata": {
    "papermill": {
     "duration": 0.009048,
     "end_time": "2024-06-03T19:35:52.343023",
     "exception": false,
     "start_time": "2024-06-03T19:35:52.333975",
     "status": "completed"
    },
    "tags": []
   },
   "source": [
    "Testing with the training data may just indicate that I am overfitting.  The right way to do this would be to separate out a third set of data, but there isn't much here to work with!"
   ]
  },
  {
   "cell_type": "code",
   "execution_count": 15,
   "id": "b82ba876",
   "metadata": {
    "execution": {
     "iopub.execute_input": "2024-06-03T19:35:52.363412Z",
     "iopub.status.busy": "2024-06-03T19:35:52.363040Z",
     "iopub.status.idle": "2024-06-03T19:35:52.391279Z",
     "shell.execute_reply": "2024-06-03T19:35:52.389929Z"
    },
    "papermill": {
     "duration": 0.041567,
     "end_time": "2024-06-03T19:35:52.393941",
     "exception": false,
     "start_time": "2024-06-03T19:35:52.352374",
     "status": "completed"
    },
    "tags": []
   },
   "outputs": [
    {
     "name": "stdout",
     "output_type": "stream",
     "text": [
      "Accuracy: 0.957351290684624\n"
     ]
    }
   ],
   "source": [
    "from sklearn.metrics import accuracy_score, confusion_matrix, precision_score, recall_score, ConfusionMatrixDisplay\n",
    "\n",
    "predictions2 = model.predict(X)\n",
    "accuracy = accuracy_score(y, predictions2)\n",
    "print(\"Accuracy:\", accuracy)"
   ]
  },
  {
   "cell_type": "markdown",
   "id": "db30ec17",
   "metadata": {
    "papermill": {
     "duration": 0.009583,
     "end_time": "2024-06-03T19:35:52.413185",
     "exception": false,
     "start_time": "2024-06-03T19:35:52.403602",
     "status": "completed"
    },
    "tags": []
   },
   "source": [
    "https://www.datacamp.com/tutorial/random-forests-classifier-python"
   ]
  },
  {
   "cell_type": "code",
   "execution_count": 16,
   "id": "9eaee077",
   "metadata": {
    "execution": {
     "iopub.execute_input": "2024-06-03T19:35:52.434774Z",
     "iopub.status.busy": "2024-06-03T19:35:52.434276Z",
     "iopub.status.idle": "2024-06-03T19:35:52.742112Z",
     "shell.execute_reply": "2024-06-03T19:35:52.740909Z"
    },
    "papermill": {
     "duration": 0.321839,
     "end_time": "2024-06-03T19:35:52.744612",
     "exception": false,
     "start_time": "2024-06-03T19:35:52.422773",
     "status": "completed"
    },
    "tags": []
   },
   "outputs": [
    {
     "data": {
      "image/svg+xml": [
       "<?xml version=\"1.0\" encoding=\"UTF-8\" standalone=\"no\"?>\n",
       "<!DOCTYPE svg PUBLIC \"-//W3C//DTD SVG 1.1//EN\"\n",
       " \"http://www.w3.org/Graphics/SVG/1.1/DTD/svg11.dtd\">\n",
       "<!-- Generated by graphviz version 9.0.0 (20231125.0833)\n",
       " -->\n",
       "<!-- Title: Tree Pages: 1 -->\n",
       "<svg width=\"762pt\" height=\"331pt\"\n",
       " viewBox=\"0.00 0.00 762.00 331.25\" xmlns=\"http://www.w3.org/2000/svg\" xmlns:xlink=\"http://www.w3.org/1999/xlink\">\n",
       "<g id=\"graph0\" class=\"graph\" transform=\"scale(1 1) rotate(0) translate(4 327.25)\">\n",
       "<title>Tree</title>\n",
       "<polygon fill=\"white\" stroke=\"none\" points=\"-4,4 -4,-327.25 758,-327.25 758,4 -4,4\"/>\n",
       "<!-- 0 -->\n",
       "<g id=\"node1\" class=\"node\">\n",
       "<title>0</title>\n",
       "<polygon fill=\"#f3c6a5\" stroke=\"black\" points=\"464,-323.25 289,-323.25 289,-263.5 464,-263.5 464,-323.25\"/>\n",
       "<text text-anchor=\"middle\" x=\"376.5\" y=\"-305.95\" font-family=\"Helvetica,sans-Serif\" font-size=\"14.00\">Fare &lt;= 3.264</text>\n",
       "<text text-anchor=\"middle\" x=\"376.5\" y=\"-288.7\" font-family=\"Helvetica,sans-Serif\" font-size=\"14.00\">samples = 100.0%</text>\n",
       "<text text-anchor=\"middle\" x=\"376.5\" y=\"-271.45\" font-family=\"Helvetica,sans-Serif\" font-size=\"14.00\">value = [0.648, 0.352]</text>\n",
       "</g>\n",
       "<!-- 1 -->\n",
       "<g id=\"node2\" class=\"node\">\n",
       "<title>1</title>\n",
       "<polygon fill=\"#efb489\" stroke=\"black\" points=\"368,-227.5 193,-227.5 193,-167.75 368,-167.75 368,-227.5\"/>\n",
       "<text text-anchor=\"middle\" x=\"280.5\" y=\"-210.2\" font-family=\"Helvetica,sans-Serif\" font-size=\"14.00\">Pclass &lt;= 2.5</text>\n",
       "<text text-anchor=\"middle\" x=\"280.5\" y=\"-192.95\" font-family=\"Helvetica,sans-Serif\" font-size=\"14.00\">samples = 78.9%</text>\n",
       "<text text-anchor=\"middle\" x=\"280.5\" y=\"-175.7\" font-family=\"Helvetica,sans-Serif\" font-size=\"14.00\">value = [0.713, 0.287]</text>\n",
       "</g>\n",
       "<!-- 0&#45;&gt;1 -->\n",
       "<g id=\"edge1\" class=\"edge\">\n",
       "<title>0&#45;&gt;1</title>\n",
       "<path fill=\"none\" stroke=\"black\" d=\"M346.65,-263.23C337.71,-254.5 327.79,-244.8 318.4,-235.64\"/>\n",
       "<polygon fill=\"black\" stroke=\"black\" points=\"321.01,-233.3 311.41,-228.81 316.12,-238.3 321.01,-233.3\"/>\n",
       "<text text-anchor=\"middle\" x=\"310.63\" y=\"-248.08\" font-family=\"Helvetica,sans-Serif\" font-size=\"14.00\">True</text>\n",
       "</g>\n",
       "<!-- 210 -->\n",
       "<g id=\"node9\" class=\"node\">\n",
       "<title>210</title>\n",
       "<polygon fill=\"#bcdef6\" stroke=\"black\" points=\"561,-227.5 386,-227.5 386,-167.75 561,-167.75 561,-227.5\"/>\n",
       "<text text-anchor=\"middle\" x=\"473.5\" y=\"-210.2\" font-family=\"Helvetica,sans-Serif\" font-size=\"14.00\">Sex_male &lt;= 0.5</text>\n",
       "<text text-anchor=\"middle\" x=\"473.5\" y=\"-192.95\" font-family=\"Helvetica,sans-Serif\" font-size=\"14.00\">samples = 21.1%</text>\n",
       "<text text-anchor=\"middle\" x=\"473.5\" y=\"-175.7\" font-family=\"Helvetica,sans-Serif\" font-size=\"14.00\">value = [0.398, 0.602]</text>\n",
       "</g>\n",
       "<!-- 0&#45;&gt;210 -->\n",
       "<g id=\"edge8\" class=\"edge\">\n",
       "<title>0&#45;&gt;210</title>\n",
       "<path fill=\"none\" stroke=\"black\" d=\"M406.66,-263.23C415.69,-254.5 425.72,-244.8 435.2,-235.64\"/>\n",
       "<polygon fill=\"black\" stroke=\"black\" points=\"437.51,-238.27 442.27,-228.81 432.65,-233.24 437.51,-238.27\"/>\n",
       "<text text-anchor=\"middle\" x=\"442.93\" y=\"-248.08\" font-family=\"Helvetica,sans-Serif\" font-size=\"14.00\">False</text>\n",
       "</g>\n",
       "<!-- 2 -->\n",
       "<g id=\"node3\" class=\"node\">\n",
       "<title>2</title>\n",
       "<polygon fill=\"#f7d7bf\" stroke=\"black\" points=\"175,-131.75 0,-131.75 0,-72 175,-72 175,-131.75\"/>\n",
       "<text text-anchor=\"middle\" x=\"87.5\" y=\"-114.45\" font-family=\"Helvetica,sans-Serif\" font-size=\"14.00\">Parch &lt;= 0.5</text>\n",
       "<text text-anchor=\"middle\" x=\"87.5\" y=\"-97.2\" font-family=\"Helvetica,sans-Serif\" font-size=\"14.00\">samples = 23.0%</text>\n",
       "<text text-anchor=\"middle\" x=\"87.5\" y=\"-79.95\" font-family=\"Helvetica,sans-Serif\" font-size=\"14.00\">value = [0.596, 0.404]</text>\n",
       "</g>\n",
       "<!-- 1&#45;&gt;2 -->\n",
       "<g id=\"edge2\" class=\"edge\">\n",
       "<title>1&#45;&gt;2</title>\n",
       "<path fill=\"none\" stroke=\"black\" d=\"M220.23,-167.35C200.45,-157.74 178.3,-146.98 157.85,-137.05\"/>\n",
       "<polygon fill=\"black\" stroke=\"black\" points=\"159.53,-133.97 149.01,-132.75 156.47,-140.27 159.53,-133.97\"/>\n",
       "</g>\n",
       "<!-- 67 -->\n",
       "<g id=\"node6\" class=\"node\">\n",
       "<title>67</title>\n",
       "<polygon fill=\"#edaa79\" stroke=\"black\" points=\"368,-131.75 193,-131.75 193,-72 368,-72 368,-131.75\"/>\n",
       "<text text-anchor=\"middle\" x=\"280.5\" y=\"-114.45\" font-family=\"Helvetica,sans-Serif\" font-size=\"14.00\">Age &lt;= 0.875</text>\n",
       "<text text-anchor=\"middle\" x=\"280.5\" y=\"-97.2\" font-family=\"Helvetica,sans-Serif\" font-size=\"14.00\">samples = 55.9%</text>\n",
       "<text text-anchor=\"middle\" x=\"280.5\" y=\"-79.95\" font-family=\"Helvetica,sans-Serif\" font-size=\"14.00\">value = [0.756, 0.244]</text>\n",
       "</g>\n",
       "<!-- 1&#45;&gt;67 -->\n",
       "<g id=\"edge5\" class=\"edge\">\n",
       "<title>1&#45;&gt;67</title>\n",
       "<path fill=\"none\" stroke=\"black\" d=\"M280.5,-167.48C280.5,-159.8 280.5,-151.39 280.5,-143.24\"/>\n",
       "<polygon fill=\"black\" stroke=\"black\" points=\"284,-143.52 280.5,-133.52 277,-143.52 284,-143.52\"/>\n",
       "</g>\n",
       "<!-- 3 -->\n",
       "<g id=\"node4\" class=\"node\">\n",
       "<title>3</title>\n",
       "<polygon fill=\"#c0c0c0\" stroke=\"black\" points=\"96.5,-36 42.5,-36 42.5,0 96.5,0 96.5,-36\"/>\n",
       "<text text-anchor=\"middle\" x=\"69.5\" y=\"-13.32\" font-family=\"Helvetica,sans-Serif\" font-size=\"14.00\">(...)</text>\n",
       "</g>\n",
       "<!-- 2&#45;&gt;3 -->\n",
       "<g id=\"edge3\" class=\"edge\">\n",
       "<title>2&#45;&gt;3</title>\n",
       "<path fill=\"none\" stroke=\"black\" d=\"M81.1,-71.78C79.34,-63.75 77.43,-55.06 75.67,-47.08\"/>\n",
       "<polygon fill=\"black\" stroke=\"black\" points=\"79.15,-46.58 73.58,-37.56 72.31,-48.08 79.15,-46.58\"/>\n",
       "</g>\n",
       "<!-- 50 -->\n",
       "<g id=\"node5\" class=\"node\">\n",
       "<title>50</title>\n",
       "<polygon fill=\"#c0c0c0\" stroke=\"black\" points=\"168.5,-36 114.5,-36 114.5,0 168.5,0 168.5,-36\"/>\n",
       "<text text-anchor=\"middle\" x=\"141.5\" y=\"-13.32\" font-family=\"Helvetica,sans-Serif\" font-size=\"14.00\">(...)</text>\n",
       "</g>\n",
       "<!-- 2&#45;&gt;50 -->\n",
       "<g id=\"edge4\" class=\"edge\">\n",
       "<title>2&#45;&gt;50</title>\n",
       "<path fill=\"none\" stroke=\"black\" d=\"M106.69,-71.78C112.36,-63.19 118.52,-53.84 124.07,-45.43\"/>\n",
       "<polygon fill=\"black\" stroke=\"black\" points=\"126.81,-47.62 129.4,-37.35 120.97,-43.77 126.81,-47.62\"/>\n",
       "</g>\n",
       "<!-- 68 -->\n",
       "<g id=\"node7\" class=\"node\">\n",
       "<title>68</title>\n",
       "<polygon fill=\"#c0c0c0\" stroke=\"black\" points=\"253.5,-36 199.5,-36 199.5,0 253.5,0 253.5,-36\"/>\n",
       "<text text-anchor=\"middle\" x=\"226.5\" y=\"-13.32\" font-family=\"Helvetica,sans-Serif\" font-size=\"14.00\">(...)</text>\n",
       "</g>\n",
       "<!-- 67&#45;&gt;68 -->\n",
       "<g id=\"edge6\" class=\"edge\">\n",
       "<title>67&#45;&gt;68</title>\n",
       "<path fill=\"none\" stroke=\"black\" d=\"M261.31,-71.78C255.64,-63.19 249.48,-53.84 243.93,-45.43\"/>\n",
       "<polygon fill=\"black\" stroke=\"black\" points=\"247.03,-43.77 238.6,-37.35 241.19,-47.62 247.03,-43.77\"/>\n",
       "</g>\n",
       "<!-- 69 -->\n",
       "<g id=\"node8\" class=\"node\">\n",
       "<title>69</title>\n",
       "<polygon fill=\"#c0c0c0\" stroke=\"black\" points=\"325.5,-36 271.5,-36 271.5,0 325.5,0 325.5,-36\"/>\n",
       "<text text-anchor=\"middle\" x=\"298.5\" y=\"-13.32\" font-family=\"Helvetica,sans-Serif\" font-size=\"14.00\">(...)</text>\n",
       "</g>\n",
       "<!-- 67&#45;&gt;69 -->\n",
       "<g id=\"edge7\" class=\"edge\">\n",
       "<title>67&#45;&gt;69</title>\n",
       "<path fill=\"none\" stroke=\"black\" d=\"M286.9,-71.78C288.66,-63.75 290.57,-55.06 292.33,-47.08\"/>\n",
       "<polygon fill=\"black\" stroke=\"black\" points=\"295.69,-48.08 294.42,-37.56 288.85,-46.58 295.69,-48.08\"/>\n",
       "</g>\n",
       "<!-- 211 -->\n",
       "<g id=\"node10\" class=\"node\">\n",
       "<title>211</title>\n",
       "<polygon fill=\"#45a3e7\" stroke=\"black\" points=\"561,-131.75 386,-131.75 386,-72 561,-72 561,-131.75\"/>\n",
       "<text text-anchor=\"middle\" x=\"473.5\" y=\"-114.45\" font-family=\"Helvetica,sans-Serif\" font-size=\"14.00\">Age &lt;= 8.0</text>\n",
       "<text text-anchor=\"middle\" x=\"473.5\" y=\"-97.2\" font-family=\"Helvetica,sans-Serif\" font-size=\"14.00\">samples = 8.3%</text>\n",
       "<text text-anchor=\"middle\" x=\"473.5\" y=\"-79.95\" font-family=\"Helvetica,sans-Serif\" font-size=\"14.00\">value = [0.056, 0.944]</text>\n",
       "</g>\n",
       "<!-- 210&#45;&gt;211 -->\n",
       "<g id=\"edge9\" class=\"edge\">\n",
       "<title>210&#45;&gt;211</title>\n",
       "<path fill=\"none\" stroke=\"black\" d=\"M473.5,-167.48C473.5,-159.8 473.5,-151.39 473.5,-143.24\"/>\n",
       "<polygon fill=\"black\" stroke=\"black\" points=\"477,-143.52 473.5,-133.52 470,-143.52 477,-143.52\"/>\n",
       "</g>\n",
       "<!-- 226 -->\n",
       "<g id=\"node13\" class=\"node\">\n",
       "<title>226</title>\n",
       "<polygon fill=\"#f5d0b5\" stroke=\"black\" points=\"754,-131.75 579,-131.75 579,-72 754,-72 754,-131.75\"/>\n",
       "<text text-anchor=\"middle\" x=\"666.5\" y=\"-114.45\" font-family=\"Helvetica,sans-Serif\" font-size=\"14.00\">Fare &lt;= 3.301</text>\n",
       "<text text-anchor=\"middle\" x=\"666.5\" y=\"-97.2\" font-family=\"Helvetica,sans-Serif\" font-size=\"14.00\">samples = 12.7%</text>\n",
       "<text text-anchor=\"middle\" x=\"666.5\" y=\"-79.95\" font-family=\"Helvetica,sans-Serif\" font-size=\"14.00\">value = [0.614, 0.386]</text>\n",
       "</g>\n",
       "<!-- 210&#45;&gt;226 -->\n",
       "<g id=\"edge12\" class=\"edge\">\n",
       "<title>210&#45;&gt;226</title>\n",
       "<path fill=\"none\" stroke=\"black\" d=\"M533.77,-167.35C553.55,-157.74 575.7,-146.98 596.15,-137.05\"/>\n",
       "<polygon fill=\"black\" stroke=\"black\" points=\"597.53,-140.27 604.99,-132.75 594.47,-133.97 597.53,-140.27\"/>\n",
       "</g>\n",
       "<!-- 212 -->\n",
       "<g id=\"node11\" class=\"node\">\n",
       "<title>212</title>\n",
       "<polygon fill=\"#c0c0c0\" stroke=\"black\" points=\"464.5,-36 410.5,-36 410.5,0 464.5,0 464.5,-36\"/>\n",
       "<text text-anchor=\"middle\" x=\"437.5\" y=\"-13.32\" font-family=\"Helvetica,sans-Serif\" font-size=\"14.00\">(...)</text>\n",
       "</g>\n",
       "<!-- 211&#45;&gt;212 -->\n",
       "<g id=\"edge10\" class=\"edge\">\n",
       "<title>211&#45;&gt;212</title>\n",
       "<path fill=\"none\" stroke=\"black\" d=\"M460.71,-71.78C457.09,-63.56 453.18,-54.65 449.6,-46.53\"/>\n",
       "<polygon fill=\"black\" stroke=\"black\" points=\"452.85,-45.22 445.62,-37.47 446.44,-48.03 452.85,-45.22\"/>\n",
       "</g>\n",
       "<!-- 213 -->\n",
       "<g id=\"node12\" class=\"node\">\n",
       "<title>213</title>\n",
       "<polygon fill=\"#c0c0c0\" stroke=\"black\" points=\"536.5,-36 482.5,-36 482.5,0 536.5,0 536.5,-36\"/>\n",
       "<text text-anchor=\"middle\" x=\"509.5\" y=\"-13.32\" font-family=\"Helvetica,sans-Serif\" font-size=\"14.00\">(...)</text>\n",
       "</g>\n",
       "<!-- 211&#45;&gt;213 -->\n",
       "<g id=\"edge11\" class=\"edge\">\n",
       "<title>211&#45;&gt;213</title>\n",
       "<path fill=\"none\" stroke=\"black\" d=\"M486.29,-71.78C489.91,-63.56 493.82,-54.65 497.4,-46.53\"/>\n",
       "<polygon fill=\"black\" stroke=\"black\" points=\"500.56,-48.03 501.38,-37.47 494.15,-45.22 500.56,-48.03\"/>\n",
       "</g>\n",
       "<!-- 227 -->\n",
       "<g id=\"node14\" class=\"node\">\n",
       "<title>227</title>\n",
       "<polygon fill=\"#c0c0c0\" stroke=\"black\" points=\"657.5,-36 603.5,-36 603.5,0 657.5,0 657.5,-36\"/>\n",
       "<text text-anchor=\"middle\" x=\"630.5\" y=\"-13.32\" font-family=\"Helvetica,sans-Serif\" font-size=\"14.00\">(...)</text>\n",
       "</g>\n",
       "<!-- 226&#45;&gt;227 -->\n",
       "<g id=\"edge13\" class=\"edge\">\n",
       "<title>226&#45;&gt;227</title>\n",
       "<path fill=\"none\" stroke=\"black\" d=\"M653.71,-71.78C650.09,-63.56 646.18,-54.65 642.6,-46.53\"/>\n",
       "<polygon fill=\"black\" stroke=\"black\" points=\"645.85,-45.22 638.62,-37.47 639.44,-48.03 645.85,-45.22\"/>\n",
       "</g>\n",
       "<!-- 238 -->\n",
       "<g id=\"node15\" class=\"node\">\n",
       "<title>238</title>\n",
       "<polygon fill=\"#c0c0c0\" stroke=\"black\" points=\"729.5,-36 675.5,-36 675.5,0 729.5,0 729.5,-36\"/>\n",
       "<text text-anchor=\"middle\" x=\"702.5\" y=\"-13.32\" font-family=\"Helvetica,sans-Serif\" font-size=\"14.00\">(...)</text>\n",
       "</g>\n",
       "<!-- 226&#45;&gt;238 -->\n",
       "<g id=\"edge14\" class=\"edge\">\n",
       "<title>226&#45;&gt;238</title>\n",
       "<path fill=\"none\" stroke=\"black\" d=\"M679.29,-71.78C682.91,-63.56 686.82,-54.65 690.4,-46.53\"/>\n",
       "<polygon fill=\"black\" stroke=\"black\" points=\"693.56,-48.03 694.38,-37.47 687.15,-45.22 693.56,-48.03\"/>\n",
       "</g>\n",
       "</g>\n",
       "</svg>\n"
      ],
      "text/plain": [
       "<graphviz.sources.Source at 0x7d4421d49870>"
      ]
     },
     "metadata": {},
     "output_type": "display_data"
    },
    {
     "data": {
      "image/svg+xml": [
       "<?xml version=\"1.0\" encoding=\"UTF-8\" standalone=\"no\"?>\n",
       "<!DOCTYPE svg PUBLIC \"-//W3C//DTD SVG 1.1//EN\"\n",
       " \"http://www.w3.org/Graphics/SVG/1.1/DTD/svg11.dtd\">\n",
       "<!-- Generated by graphviz version 9.0.0 (20231125.0833)\n",
       " -->\n",
       "<!-- Title: Tree Pages: 1 -->\n",
       "<svg width=\"746pt\" height=\"331pt\"\n",
       " viewBox=\"0.00 0.00 746.00 331.25\" xmlns=\"http://www.w3.org/2000/svg\" xmlns:xlink=\"http://www.w3.org/1999/xlink\">\n",
       "<g id=\"graph0\" class=\"graph\" transform=\"scale(1 1) rotate(0) translate(4 327.25)\">\n",
       "<title>Tree</title>\n",
       "<polygon fill=\"white\" stroke=\"none\" points=\"-4,4 -4,-327.25 742,-327.25 742,4 -4,4\"/>\n",
       "<!-- 0 -->\n",
       "<g id=\"node1\" class=\"node\">\n",
       "<title>0</title>\n",
       "<polygon fill=\"#f5cfb4\" stroke=\"black\" points=\"452,-323.25 277,-323.25 277,-263.5 452,-263.5 452,-323.25\"/>\n",
       "<text text-anchor=\"middle\" x=\"364.5\" y=\"-305.95\" font-family=\"Helvetica,sans-Serif\" font-size=\"14.00\">Pclass &lt;= 2.5</text>\n",
       "<text text-anchor=\"middle\" x=\"364.5\" y=\"-288.7\" font-family=\"Helvetica,sans-Serif\" font-size=\"14.00\">samples = 100.0%</text>\n",
       "<text text-anchor=\"middle\" x=\"364.5\" y=\"-271.45\" font-family=\"Helvetica,sans-Serif\" font-size=\"14.00\">value = [0.616, 0.384]</text>\n",
       "</g>\n",
       "<!-- 1 -->\n",
       "<g id=\"node2\" class=\"node\">\n",
       "<title>1</title>\n",
       "<polygon fill=\"#dcedfa\" stroke=\"black\" points=\"356,-227.5 181,-227.5 181,-167.75 356,-167.75 356,-227.5\"/>\n",
       "<text text-anchor=\"middle\" x=\"268.5\" y=\"-210.2\" font-family=\"Helvetica,sans-Serif\" font-size=\"14.00\">Sex_male &lt;= 0.5</text>\n",
       "<text text-anchor=\"middle\" x=\"268.5\" y=\"-192.95\" font-family=\"Helvetica,sans-Serif\" font-size=\"14.00\">samples = 46.9%</text>\n",
       "<text text-anchor=\"middle\" x=\"268.5\" y=\"-175.7\" font-family=\"Helvetica,sans-Serif\" font-size=\"14.00\">value = [0.451, 0.549]</text>\n",
       "</g>\n",
       "<!-- 0&#45;&gt;1 -->\n",
       "<g id=\"edge1\" class=\"edge\">\n",
       "<title>0&#45;&gt;1</title>\n",
       "<path fill=\"none\" stroke=\"black\" d=\"M334.65,-263.23C325.71,-254.5 315.79,-244.8 306.4,-235.64\"/>\n",
       "<polygon fill=\"black\" stroke=\"black\" points=\"309.01,-233.3 299.41,-228.81 304.12,-238.3 309.01,-233.3\"/>\n",
       "<text text-anchor=\"middle\" x=\"298.63\" y=\"-248.08\" font-family=\"Helvetica,sans-Serif\" font-size=\"14.00\">True</text>\n",
       "</g>\n",
       "<!-- 110 -->\n",
       "<g id=\"node9\" class=\"node\">\n",
       "<title>110</title>\n",
       "<polygon fill=\"#eda877\" stroke=\"black\" points=\"549,-227.5 374,-227.5 374,-167.75 549,-167.75 549,-227.5\"/>\n",
       "<text text-anchor=\"middle\" x=\"461.5\" y=\"-210.2\" font-family=\"Helvetica,sans-Serif\" font-size=\"14.00\">Sex_male &lt;= 0.5</text>\n",
       "<text text-anchor=\"middle\" x=\"461.5\" y=\"-192.95\" font-family=\"Helvetica,sans-Serif\" font-size=\"14.00\">samples = 53.1%</text>\n",
       "<text text-anchor=\"middle\" x=\"461.5\" y=\"-175.7\" font-family=\"Helvetica,sans-Serif\" font-size=\"14.00\">value = [0.762, 0.238]</text>\n",
       "</g>\n",
       "<!-- 0&#45;&gt;110 -->\n",
       "<g id=\"edge8\" class=\"edge\">\n",
       "<title>0&#45;&gt;110</title>\n",
       "<path fill=\"none\" stroke=\"black\" d=\"M394.66,-263.23C403.69,-254.5 413.72,-244.8 423.2,-235.64\"/>\n",
       "<polygon fill=\"black\" stroke=\"black\" points=\"425.51,-238.27 430.27,-228.81 420.65,-233.24 425.51,-238.27\"/>\n",
       "<text text-anchor=\"middle\" x=\"430.93\" y=\"-248.08\" font-family=\"Helvetica,sans-Serif\" font-size=\"14.00\">False</text>\n",
       "</g>\n",
       "<!-- 2 -->\n",
       "<g id=\"node3\" class=\"node\">\n",
       "<title>2</title>\n",
       "<polygon fill=\"#47a4e7\" stroke=\"black\" points=\"175,-131.75 0,-131.75 0,-72 175,-72 175,-131.75\"/>\n",
       "<text text-anchor=\"middle\" x=\"87.5\" y=\"-114.45\" font-family=\"Helvetica,sans-Serif\" font-size=\"14.00\">Age &lt;= 3.0</text>\n",
       "<text text-anchor=\"middle\" x=\"87.5\" y=\"-97.2\" font-family=\"Helvetica,sans-Serif\" font-size=\"14.00\">samples = 19.1%</text>\n",
       "<text text-anchor=\"middle\" x=\"87.5\" y=\"-79.95\" font-family=\"Helvetica,sans-Serif\" font-size=\"14.00\">value = [0.064, 0.936]</text>\n",
       "</g>\n",
       "<!-- 1&#45;&gt;2 -->\n",
       "<g id=\"edge2\" class=\"edge\">\n",
       "<title>1&#45;&gt;2</title>\n",
       "<path fill=\"none\" stroke=\"black\" d=\"M212.22,-167.48C193.84,-157.95 173.24,-147.29 154.17,-137.41\"/>\n",
       "<polygon fill=\"black\" stroke=\"black\" points=\"155.89,-134.36 145.4,-132.86 152.67,-140.57 155.89,-134.36\"/>\n",
       "</g>\n",
       "<!-- 41 -->\n",
       "<g id=\"node6\" class=\"node\">\n",
       "<title>41</title>\n",
       "<polygon fill=\"#efb286\" stroke=\"black\" points=\"350,-131.75 193,-131.75 193,-72 350,-72 350,-131.75\"/>\n",
       "<text text-anchor=\"middle\" x=\"271.5\" y=\"-114.45\" font-family=\"Helvetica,sans-Serif\" font-size=\"14.00\">SibSp &lt;= 0.5</text>\n",
       "<text text-anchor=\"middle\" x=\"271.5\" y=\"-97.2\" font-family=\"Helvetica,sans-Serif\" font-size=\"14.00\">samples = 27.8%</text>\n",
       "<text text-anchor=\"middle\" x=\"271.5\" y=\"-79.95\" font-family=\"Helvetica,sans-Serif\" font-size=\"14.00\">value = [0.72, 0.28]</text>\n",
       "</g>\n",
       "<!-- 1&#45;&gt;41 -->\n",
       "<g id=\"edge5\" class=\"edge\">\n",
       "<title>1&#45;&gt;41</title>\n",
       "<path fill=\"none\" stroke=\"black\" d=\"M269.43,-167.48C269.68,-159.8 269.95,-151.39 270.21,-143.24\"/>\n",
       "<polygon fill=\"black\" stroke=\"black\" points=\"273.7,-143.63 270.52,-133.52 266.7,-143.4 273.7,-143.63\"/>\n",
       "</g>\n",
       "<!-- 3 -->\n",
       "<g id=\"node4\" class=\"node\">\n",
       "<title>3</title>\n",
       "<polygon fill=\"#c0c0c0\" stroke=\"black\" points=\"96.5,-36 42.5,-36 42.5,0 96.5,0 96.5,-36\"/>\n",
       "<text text-anchor=\"middle\" x=\"69.5\" y=\"-13.32\" font-family=\"Helvetica,sans-Serif\" font-size=\"14.00\">(...)</text>\n",
       "</g>\n",
       "<!-- 2&#45;&gt;3 -->\n",
       "<g id=\"edge3\" class=\"edge\">\n",
       "<title>2&#45;&gt;3</title>\n",
       "<path fill=\"none\" stroke=\"black\" d=\"M81.1,-71.78C79.34,-63.75 77.43,-55.06 75.67,-47.08\"/>\n",
       "<polygon fill=\"black\" stroke=\"black\" points=\"79.15,-46.58 73.58,-37.56 72.31,-48.08 79.15,-46.58\"/>\n",
       "</g>\n",
       "<!-- 6 -->\n",
       "<g id=\"node5\" class=\"node\">\n",
       "<title>6</title>\n",
       "<polygon fill=\"#c0c0c0\" stroke=\"black\" points=\"168.5,-36 114.5,-36 114.5,0 168.5,0 168.5,-36\"/>\n",
       "<text text-anchor=\"middle\" x=\"141.5\" y=\"-13.32\" font-family=\"Helvetica,sans-Serif\" font-size=\"14.00\">(...)</text>\n",
       "</g>\n",
       "<!-- 2&#45;&gt;6 -->\n",
       "<g id=\"edge4\" class=\"edge\">\n",
       "<title>2&#45;&gt;6</title>\n",
       "<path fill=\"none\" stroke=\"black\" d=\"M106.69,-71.78C112.36,-63.19 118.52,-53.84 124.07,-45.43\"/>\n",
       "<polygon fill=\"black\" stroke=\"black\" points=\"126.81,-47.62 129.4,-37.35 120.97,-43.77 126.81,-47.62\"/>\n",
       "</g>\n",
       "<!-- 42 -->\n",
       "<g id=\"node7\" class=\"node\">\n",
       "<title>42</title>\n",
       "<polygon fill=\"#c0c0c0\" stroke=\"black\" points=\"244.5,-36 190.5,-36 190.5,0 244.5,0 244.5,-36\"/>\n",
       "<text text-anchor=\"middle\" x=\"217.5\" y=\"-13.32\" font-family=\"Helvetica,sans-Serif\" font-size=\"14.00\">(...)</text>\n",
       "</g>\n",
       "<!-- 41&#45;&gt;42 -->\n",
       "<g id=\"edge6\" class=\"edge\">\n",
       "<title>41&#45;&gt;42</title>\n",
       "<path fill=\"none\" stroke=\"black\" d=\"M252.31,-71.78C246.64,-63.19 240.48,-53.84 234.93,-45.43\"/>\n",
       "<polygon fill=\"black\" stroke=\"black\" points=\"238.03,-43.77 229.6,-37.35 232.19,-47.62 238.03,-43.77\"/>\n",
       "</g>\n",
       "<!-- 81 -->\n",
       "<g id=\"node8\" class=\"node\">\n",
       "<title>81</title>\n",
       "<polygon fill=\"#c0c0c0\" stroke=\"black\" points=\"316.5,-36 262.5,-36 262.5,0 316.5,0 316.5,-36\"/>\n",
       "<text text-anchor=\"middle\" x=\"289.5\" y=\"-13.32\" font-family=\"Helvetica,sans-Serif\" font-size=\"14.00\">(...)</text>\n",
       "</g>\n",
       "<!-- 41&#45;&gt;81 -->\n",
       "<g id=\"edge7\" class=\"edge\">\n",
       "<title>41&#45;&gt;81</title>\n",
       "<path fill=\"none\" stroke=\"black\" d=\"M277.9,-71.78C279.66,-63.75 281.57,-55.06 283.33,-47.08\"/>\n",
       "<polygon fill=\"black\" stroke=\"black\" points=\"286.69,-48.08 285.42,-37.56 279.85,-46.58 286.69,-48.08\"/>\n",
       "</g>\n",
       "<!-- 111 -->\n",
       "<g id=\"node10\" class=\"node\">\n",
       "<title>111</title>\n",
       "<polygon fill=\"#fffdfc\" stroke=\"black\" points=\"545,-131.75 370,-131.75 370,-72 545,-72 545,-131.75\"/>\n",
       "<text text-anchor=\"middle\" x=\"457.5\" y=\"-114.45\" font-family=\"Helvetica,sans-Serif\" font-size=\"14.00\">SibSp &lt;= 2.5</text>\n",
       "<text text-anchor=\"middle\" x=\"457.5\" y=\"-97.2\" font-family=\"Helvetica,sans-Serif\" font-size=\"14.00\">samples = 15.6%</text>\n",
       "<text text-anchor=\"middle\" x=\"457.5\" y=\"-79.95\" font-family=\"Helvetica,sans-Serif\" font-size=\"14.00\">value = [0.504, 0.496]</text>\n",
       "</g>\n",
       "<!-- 110&#45;&gt;111 -->\n",
       "<g id=\"edge9\" class=\"edge\">\n",
       "<title>110&#45;&gt;111</title>\n",
       "<path fill=\"none\" stroke=\"black\" d=\"M460.26,-167.48C459.93,-159.8 459.57,-151.39 459.22,-143.24\"/>\n",
       "<polygon fill=\"black\" stroke=\"black\" points=\"462.73,-143.36 458.81,-133.52 455.74,-143.66 462.73,-143.36\"/>\n",
       "</g>\n",
       "<!-- 182 -->\n",
       "<g id=\"node13\" class=\"node\">\n",
       "<title>182</title>\n",
       "<polygon fill=\"#e99558\" stroke=\"black\" points=\"738,-131.75 563,-131.75 563,-72 738,-72 738,-131.75\"/>\n",
       "<text text-anchor=\"middle\" x=\"650.5\" y=\"-114.45\" font-family=\"Helvetica,sans-Serif\" font-size=\"14.00\">Fare &lt;= 3.574</text>\n",
       "<text text-anchor=\"middle\" x=\"650.5\" y=\"-97.2\" font-family=\"Helvetica,sans-Serif\" font-size=\"14.00\">samples = 37.5%</text>\n",
       "<text text-anchor=\"middle\" x=\"650.5\" y=\"-79.95\" font-family=\"Helvetica,sans-Serif\" font-size=\"14.00\">value = [0.864, 0.136]</text>\n",
       "</g>\n",
       "<!-- 110&#45;&gt;182 -->\n",
       "<g id=\"edge12\" class=\"edge\">\n",
       "<title>110&#45;&gt;182</title>\n",
       "<path fill=\"none\" stroke=\"black\" d=\"M520.52,-167.35C539.8,-157.79 561.38,-147.08 581.33,-137.18\"/>\n",
       "<polygon fill=\"black\" stroke=\"black\" points=\"582.84,-140.34 590.24,-132.76 579.73,-134.07 582.84,-140.34\"/>\n",
       "</g>\n",
       "<!-- 112 -->\n",
       "<g id=\"node11\" class=\"node\">\n",
       "<title>112</title>\n",
       "<polygon fill=\"#c0c0c0\" stroke=\"black\" points=\"448.5,-36 394.5,-36 394.5,0 448.5,0 448.5,-36\"/>\n",
       "<text text-anchor=\"middle\" x=\"421.5\" y=\"-13.32\" font-family=\"Helvetica,sans-Serif\" font-size=\"14.00\">(...)</text>\n",
       "</g>\n",
       "<!-- 111&#45;&gt;112 -->\n",
       "<g id=\"edge10\" class=\"edge\">\n",
       "<title>111&#45;&gt;112</title>\n",
       "<path fill=\"none\" stroke=\"black\" d=\"M444.71,-71.78C441.09,-63.56 437.18,-54.65 433.6,-46.53\"/>\n",
       "<polygon fill=\"black\" stroke=\"black\" points=\"436.85,-45.22 429.62,-37.47 430.44,-48.03 436.85,-45.22\"/>\n",
       "</g>\n",
       "<!-- 175 -->\n",
       "<g id=\"node12\" class=\"node\">\n",
       "<title>175</title>\n",
       "<polygon fill=\"#c0c0c0\" stroke=\"black\" points=\"520.5,-36 466.5,-36 466.5,0 520.5,0 520.5,-36\"/>\n",
       "<text text-anchor=\"middle\" x=\"493.5\" y=\"-13.32\" font-family=\"Helvetica,sans-Serif\" font-size=\"14.00\">(...)</text>\n",
       "</g>\n",
       "<!-- 111&#45;&gt;175 -->\n",
       "<g id=\"edge11\" class=\"edge\">\n",
       "<title>111&#45;&gt;175</title>\n",
       "<path fill=\"none\" stroke=\"black\" d=\"M470.29,-71.78C473.91,-63.56 477.82,-54.65 481.4,-46.53\"/>\n",
       "<polygon fill=\"black\" stroke=\"black\" points=\"484.56,-48.03 485.38,-37.47 478.15,-45.22 484.56,-48.03\"/>\n",
       "</g>\n",
       "<!-- 183 -->\n",
       "<g id=\"node14\" class=\"node\">\n",
       "<title>183</title>\n",
       "<polygon fill=\"#c0c0c0\" stroke=\"black\" points=\"641.5,-36 587.5,-36 587.5,0 641.5,0 641.5,-36\"/>\n",
       "<text text-anchor=\"middle\" x=\"614.5\" y=\"-13.32\" font-family=\"Helvetica,sans-Serif\" font-size=\"14.00\">(...)</text>\n",
       "</g>\n",
       "<!-- 182&#45;&gt;183 -->\n",
       "<g id=\"edge13\" class=\"edge\">\n",
       "<title>182&#45;&gt;183</title>\n",
       "<path fill=\"none\" stroke=\"black\" d=\"M637.71,-71.78C634.09,-63.56 630.18,-54.65 626.6,-46.53\"/>\n",
       "<polygon fill=\"black\" stroke=\"black\" points=\"629.85,-45.22 622.62,-37.47 623.44,-48.03 629.85,-45.22\"/>\n",
       "</g>\n",
       "<!-- 226 -->\n",
       "<g id=\"node15\" class=\"node\">\n",
       "<title>226</title>\n",
       "<polygon fill=\"#c0c0c0\" stroke=\"black\" points=\"713.5,-36 659.5,-36 659.5,0 713.5,0 713.5,-36\"/>\n",
       "<text text-anchor=\"middle\" x=\"686.5\" y=\"-13.32\" font-family=\"Helvetica,sans-Serif\" font-size=\"14.00\">(...)</text>\n",
       "</g>\n",
       "<!-- 182&#45;&gt;226 -->\n",
       "<g id=\"edge14\" class=\"edge\">\n",
       "<title>182&#45;&gt;226</title>\n",
       "<path fill=\"none\" stroke=\"black\" d=\"M663.29,-71.78C666.91,-63.56 670.82,-54.65 674.4,-46.53\"/>\n",
       "<polygon fill=\"black\" stroke=\"black\" points=\"677.56,-48.03 678.38,-37.47 671.15,-45.22 677.56,-48.03\"/>\n",
       "</g>\n",
       "</g>\n",
       "</svg>\n"
      ],
      "text/plain": [
       "<graphviz.sources.Source at 0x7d4421d4be80>"
      ]
     },
     "metadata": {},
     "output_type": "display_data"
    },
    {
     "data": {
      "image/svg+xml": [
       "<?xml version=\"1.0\" encoding=\"UTF-8\" standalone=\"no\"?>\n",
       "<!DOCTYPE svg PUBLIC \"-//W3C//DTD SVG 1.1//EN\"\n",
       " \"http://www.w3.org/Graphics/SVG/1.1/DTD/svg11.dtd\">\n",
       "<!-- Generated by graphviz version 9.0.0 (20231125.0833)\n",
       " -->\n",
       "<!-- Title: Tree Pages: 1 -->\n",
       "<svg width=\"762pt\" height=\"331pt\"\n",
       " viewBox=\"0.00 0.00 762.00 331.25\" xmlns=\"http://www.w3.org/2000/svg\" xmlns:xlink=\"http://www.w3.org/1999/xlink\">\n",
       "<g id=\"graph0\" class=\"graph\" transform=\"scale(1 1) rotate(0) translate(4 327.25)\">\n",
       "<title>Tree</title>\n",
       "<polygon fill=\"white\" stroke=\"none\" points=\"-4,4 -4,-327.25 758,-327.25 758,4 -4,4\"/>\n",
       "<!-- 0 -->\n",
       "<g id=\"node1\" class=\"node\">\n",
       "<title>0</title>\n",
       "<polygon fill=\"#f4ccaf\" stroke=\"black\" points=\"464,-323.25 289,-323.25 289,-263.5 464,-263.5 464,-323.25\"/>\n",
       "<text text-anchor=\"middle\" x=\"376.5\" y=\"-305.95\" font-family=\"Helvetica,sans-Serif\" font-size=\"14.00\">Sex_male &lt;= 0.5</text>\n",
       "<text text-anchor=\"middle\" x=\"376.5\" y=\"-288.7\" font-family=\"Helvetica,sans-Serif\" font-size=\"14.00\">samples = 100.0%</text>\n",
       "<text text-anchor=\"middle\" x=\"376.5\" y=\"-271.45\" font-family=\"Helvetica,sans-Serif\" font-size=\"14.00\">value = [0.627, 0.373]</text>\n",
       "</g>\n",
       "<!-- 1 -->\n",
       "<g id=\"node2\" class=\"node\">\n",
       "<title>1</title>\n",
       "<polygon fill=\"#79bded\" stroke=\"black\" points=\"368,-227.5 193,-227.5 193,-167.75 368,-167.75 368,-227.5\"/>\n",
       "<text text-anchor=\"middle\" x=\"280.5\" y=\"-210.2\" font-family=\"Helvetica,sans-Serif\" font-size=\"14.00\">SibSp &lt;= 2.5</text>\n",
       "<text text-anchor=\"middle\" x=\"280.5\" y=\"-192.95\" font-family=\"Helvetica,sans-Serif\" font-size=\"14.00\">samples = 34.4%</text>\n",
       "<text text-anchor=\"middle\" x=\"280.5\" y=\"-175.7\" font-family=\"Helvetica,sans-Serif\" font-size=\"14.00\">value = [0.245, 0.755]</text>\n",
       "</g>\n",
       "<!-- 0&#45;&gt;1 -->\n",
       "<g id=\"edge1\" class=\"edge\">\n",
       "<title>0&#45;&gt;1</title>\n",
       "<path fill=\"none\" stroke=\"black\" d=\"M346.65,-263.23C337.71,-254.5 327.79,-244.8 318.4,-235.64\"/>\n",
       "<polygon fill=\"black\" stroke=\"black\" points=\"321.01,-233.3 311.41,-228.81 316.12,-238.3 321.01,-233.3\"/>\n",
       "<text text-anchor=\"middle\" x=\"310.63\" y=\"-248.08\" font-family=\"Helvetica,sans-Serif\" font-size=\"14.00\">True</text>\n",
       "</g>\n",
       "<!-- 86 -->\n",
       "<g id=\"node9\" class=\"node\">\n",
       "<title>86</title>\n",
       "<polygon fill=\"#eb9f68\" stroke=\"black\" points=\"561,-227.5 386,-227.5 386,-167.75 561,-167.75 561,-227.5\"/>\n",
       "<text text-anchor=\"middle\" x=\"473.5\" y=\"-210.2\" font-family=\"Helvetica,sans-Serif\" font-size=\"14.00\">Age &lt;= 9.5</text>\n",
       "<text text-anchor=\"middle\" x=\"473.5\" y=\"-192.95\" font-family=\"Helvetica,sans-Serif\" font-size=\"14.00\">samples = 65.6%</text>\n",
       "<text text-anchor=\"middle\" x=\"473.5\" y=\"-175.7\" font-family=\"Helvetica,sans-Serif\" font-size=\"14.00\">value = [0.808, 0.192]</text>\n",
       "</g>\n",
       "<!-- 0&#45;&gt;86 -->\n",
       "<g id=\"edge8\" class=\"edge\">\n",
       "<title>0&#45;&gt;86</title>\n",
       "<path fill=\"none\" stroke=\"black\" d=\"M406.66,-263.23C415.69,-254.5 425.72,-244.8 435.2,-235.64\"/>\n",
       "<polygon fill=\"black\" stroke=\"black\" points=\"437.51,-238.27 442.27,-228.81 432.65,-233.24 437.51,-238.27\"/>\n",
       "<text text-anchor=\"middle\" x=\"442.93\" y=\"-248.08\" font-family=\"Helvetica,sans-Serif\" font-size=\"14.00\">False</text>\n",
       "</g>\n",
       "<!-- 2 -->\n",
       "<g id=\"node3\" class=\"node\">\n",
       "<title>2</title>\n",
       "<polygon fill=\"#70b8ec\" stroke=\"black\" points=\"175,-131.75 0,-131.75 0,-72 175,-72 175,-131.75\"/>\n",
       "<text text-anchor=\"middle\" x=\"87.5\" y=\"-114.45\" font-family=\"Helvetica,sans-Serif\" font-size=\"14.00\">Pclass &lt;= 2.5</text>\n",
       "<text text-anchor=\"middle\" x=\"87.5\" y=\"-97.2\" font-family=\"Helvetica,sans-Serif\" font-size=\"14.00\">samples = 32.7%</text>\n",
       "<text text-anchor=\"middle\" x=\"87.5\" y=\"-79.95\" font-family=\"Helvetica,sans-Serif\" font-size=\"14.00\">value = [0.216, 0.784]</text>\n",
       "</g>\n",
       "<!-- 1&#45;&gt;2 -->\n",
       "<g id=\"edge2\" class=\"edge\">\n",
       "<title>1&#45;&gt;2</title>\n",
       "<path fill=\"none\" stroke=\"black\" d=\"M220.23,-167.35C200.45,-157.74 178.3,-146.98 157.85,-137.05\"/>\n",
       "<polygon fill=\"black\" stroke=\"black\" points=\"159.53,-133.97 149.01,-132.75 156.47,-140.27 159.53,-133.97\"/>\n",
       "</g>\n",
       "<!-- 83 -->\n",
       "<g id=\"node6\" class=\"node\">\n",
       "<title>83</title>\n",
       "<polygon fill=\"#ea985d\" stroke=\"black\" points=\"368,-131.75 193,-131.75 193,-72 368,-72 368,-131.75\"/>\n",
       "<text text-anchor=\"middle\" x=\"280.5\" y=\"-114.45\" font-family=\"Helvetica,sans-Serif\" font-size=\"14.00\">Pclass &lt;= 2.0</text>\n",
       "<text text-anchor=\"middle\" x=\"280.5\" y=\"-97.2\" font-family=\"Helvetica,sans-Serif\" font-size=\"14.00\">samples = 1.7%</text>\n",
       "<text text-anchor=\"middle\" x=\"280.5\" y=\"-79.95\" font-family=\"Helvetica,sans-Serif\" font-size=\"14.00\">value = [0.846, 0.154]</text>\n",
       "</g>\n",
       "<!-- 1&#45;&gt;83 -->\n",
       "<g id=\"edge5\" class=\"edge\">\n",
       "<title>1&#45;&gt;83</title>\n",
       "<path fill=\"none\" stroke=\"black\" d=\"M280.5,-167.48C280.5,-159.8 280.5,-151.39 280.5,-143.24\"/>\n",
       "<polygon fill=\"black\" stroke=\"black\" points=\"284,-143.52 280.5,-133.52 277,-143.52 284,-143.52\"/>\n",
       "</g>\n",
       "<!-- 3 -->\n",
       "<g id=\"node4\" class=\"node\">\n",
       "<title>3</title>\n",
       "<polygon fill=\"#c0c0c0\" stroke=\"black\" points=\"96.5,-36 42.5,-36 42.5,0 96.5,0 96.5,-36\"/>\n",
       "<text text-anchor=\"middle\" x=\"69.5\" y=\"-13.32\" font-family=\"Helvetica,sans-Serif\" font-size=\"14.00\">(...)</text>\n",
       "</g>\n",
       "<!-- 2&#45;&gt;3 -->\n",
       "<g id=\"edge3\" class=\"edge\">\n",
       "<title>2&#45;&gt;3</title>\n",
       "<path fill=\"none\" stroke=\"black\" d=\"M81.1,-71.78C79.34,-63.75 77.43,-55.06 75.67,-47.08\"/>\n",
       "<polygon fill=\"black\" stroke=\"black\" points=\"79.15,-46.58 73.58,-37.56 72.31,-48.08 79.15,-46.58\"/>\n",
       "</g>\n",
       "<!-- 24 -->\n",
       "<g id=\"node5\" class=\"node\">\n",
       "<title>24</title>\n",
       "<polygon fill=\"#c0c0c0\" stroke=\"black\" points=\"168.5,-36 114.5,-36 114.5,0 168.5,0 168.5,-36\"/>\n",
       "<text text-anchor=\"middle\" x=\"141.5\" y=\"-13.32\" font-family=\"Helvetica,sans-Serif\" font-size=\"14.00\">(...)</text>\n",
       "</g>\n",
       "<!-- 2&#45;&gt;24 -->\n",
       "<g id=\"edge4\" class=\"edge\">\n",
       "<title>2&#45;&gt;24</title>\n",
       "<path fill=\"none\" stroke=\"black\" d=\"M106.69,-71.78C112.36,-63.19 118.52,-53.84 124.07,-45.43\"/>\n",
       "<polygon fill=\"black\" stroke=\"black\" points=\"126.81,-47.62 129.4,-37.35 120.97,-43.77 126.81,-47.62\"/>\n",
       "</g>\n",
       "<!-- 84 -->\n",
       "<g id=\"node7\" class=\"node\">\n",
       "<title>84</title>\n",
       "<polygon fill=\"#c0c0c0\" stroke=\"black\" points=\"253.5,-36 199.5,-36 199.5,0 253.5,0 253.5,-36\"/>\n",
       "<text text-anchor=\"middle\" x=\"226.5\" y=\"-13.32\" font-family=\"Helvetica,sans-Serif\" font-size=\"14.00\">(...)</text>\n",
       "</g>\n",
       "<!-- 83&#45;&gt;84 -->\n",
       "<g id=\"edge6\" class=\"edge\">\n",
       "<title>83&#45;&gt;84</title>\n",
       "<path fill=\"none\" stroke=\"black\" d=\"M261.31,-71.78C255.64,-63.19 249.48,-53.84 243.93,-45.43\"/>\n",
       "<polygon fill=\"black\" stroke=\"black\" points=\"247.03,-43.77 238.6,-37.35 241.19,-47.62 247.03,-43.77\"/>\n",
       "</g>\n",
       "<!-- 85 -->\n",
       "<g id=\"node8\" class=\"node\">\n",
       "<title>85</title>\n",
       "<polygon fill=\"#c0c0c0\" stroke=\"black\" points=\"325.5,-36 271.5,-36 271.5,0 325.5,0 325.5,-36\"/>\n",
       "<text text-anchor=\"middle\" x=\"298.5\" y=\"-13.32\" font-family=\"Helvetica,sans-Serif\" font-size=\"14.00\">(...)</text>\n",
       "</g>\n",
       "<!-- 83&#45;&gt;85 -->\n",
       "<g id=\"edge7\" class=\"edge\">\n",
       "<title>83&#45;&gt;85</title>\n",
       "<path fill=\"none\" stroke=\"black\" d=\"M286.9,-71.78C288.66,-63.75 290.57,-55.06 292.33,-47.08\"/>\n",
       "<polygon fill=\"black\" stroke=\"black\" points=\"295.69,-48.08 294.42,-37.56 288.85,-46.58 295.69,-48.08\"/>\n",
       "</g>\n",
       "<!-- 87 -->\n",
       "<g id=\"node10\" class=\"node\">\n",
       "<title>87</title>\n",
       "<polygon fill=\"#9ccef2\" stroke=\"black\" points=\"561,-131.75 386,-131.75 386,-72 561,-72 561,-131.75\"/>\n",
       "<text text-anchor=\"middle\" x=\"473.5\" y=\"-114.45\" font-family=\"Helvetica,sans-Serif\" font-size=\"14.00\">Pclass &lt;= 2.5</text>\n",
       "<text text-anchor=\"middle\" x=\"473.5\" y=\"-97.2\" font-family=\"Helvetica,sans-Serif\" font-size=\"14.00\">samples = 3.7%</text>\n",
       "<text text-anchor=\"middle\" x=\"473.5\" y=\"-79.95\" font-family=\"Helvetica,sans-Serif\" font-size=\"14.00\">value = [0.333, 0.667]</text>\n",
       "</g>\n",
       "<!-- 86&#45;&gt;87 -->\n",
       "<g id=\"edge9\" class=\"edge\">\n",
       "<title>86&#45;&gt;87</title>\n",
       "<path fill=\"none\" stroke=\"black\" d=\"M473.5,-167.48C473.5,-159.8 473.5,-151.39 473.5,-143.24\"/>\n",
       "<polygon fill=\"black\" stroke=\"black\" points=\"477,-143.52 473.5,-133.52 470,-143.52 477,-143.52\"/>\n",
       "</g>\n",
       "<!-- 108 -->\n",
       "<g id=\"node13\" class=\"node\">\n",
       "<title>108</title>\n",
       "<polygon fill=\"#ea9a60\" stroke=\"black\" points=\"754,-131.75 579,-131.75 579,-72 754,-72 754,-131.75\"/>\n",
       "<text text-anchor=\"middle\" x=\"666.5\" y=\"-114.45\" font-family=\"Helvetica,sans-Serif\" font-size=\"14.00\">SibSp &lt;= 2.5</text>\n",
       "<text text-anchor=\"middle\" x=\"666.5\" y=\"-97.2\" font-family=\"Helvetica,sans-Serif\" font-size=\"14.00\">samples = 61.9%</text>\n",
       "<text text-anchor=\"middle\" x=\"666.5\" y=\"-79.95\" font-family=\"Helvetica,sans-Serif\" font-size=\"14.00\">value = [0.836, 0.164]</text>\n",
       "</g>\n",
       "<!-- 86&#45;&gt;108 -->\n",
       "<g id=\"edge12\" class=\"edge\">\n",
       "<title>86&#45;&gt;108</title>\n",
       "<path fill=\"none\" stroke=\"black\" d=\"M533.77,-167.35C553.55,-157.74 575.7,-146.98 596.15,-137.05\"/>\n",
       "<polygon fill=\"black\" stroke=\"black\" points=\"597.53,-140.27 604.99,-132.75 594.47,-133.97 597.53,-140.27\"/>\n",
       "</g>\n",
       "<!-- 88 -->\n",
       "<g id=\"node11\" class=\"node\">\n",
       "<title>88</title>\n",
       "<polygon fill=\"#c0c0c0\" stroke=\"black\" points=\"464.5,-36 410.5,-36 410.5,0 464.5,0 464.5,-36\"/>\n",
       "<text text-anchor=\"middle\" x=\"437.5\" y=\"-13.32\" font-family=\"Helvetica,sans-Serif\" font-size=\"14.00\">(...)</text>\n",
       "</g>\n",
       "<!-- 87&#45;&gt;88 -->\n",
       "<g id=\"edge10\" class=\"edge\">\n",
       "<title>87&#45;&gt;88</title>\n",
       "<path fill=\"none\" stroke=\"black\" d=\"M460.71,-71.78C457.09,-63.56 453.18,-54.65 449.6,-46.53\"/>\n",
       "<polygon fill=\"black\" stroke=\"black\" points=\"452.85,-45.22 445.62,-37.47 446.44,-48.03 452.85,-45.22\"/>\n",
       "</g>\n",
       "<!-- 89 -->\n",
       "<g id=\"node12\" class=\"node\">\n",
       "<title>89</title>\n",
       "<polygon fill=\"#c0c0c0\" stroke=\"black\" points=\"536.5,-36 482.5,-36 482.5,0 536.5,0 536.5,-36\"/>\n",
       "<text text-anchor=\"middle\" x=\"509.5\" y=\"-13.32\" font-family=\"Helvetica,sans-Serif\" font-size=\"14.00\">(...)</text>\n",
       "</g>\n",
       "<!-- 87&#45;&gt;89 -->\n",
       "<g id=\"edge11\" class=\"edge\">\n",
       "<title>87&#45;&gt;89</title>\n",
       "<path fill=\"none\" stroke=\"black\" d=\"M486.29,-71.78C489.91,-63.56 493.82,-54.65 497.4,-46.53\"/>\n",
       "<polygon fill=\"black\" stroke=\"black\" points=\"500.56,-48.03 501.38,-37.47 494.15,-45.22 500.56,-48.03\"/>\n",
       "</g>\n",
       "<!-- 109 -->\n",
       "<g id=\"node14\" class=\"node\">\n",
       "<title>109</title>\n",
       "<polygon fill=\"#c0c0c0\" stroke=\"black\" points=\"657.5,-36 603.5,-36 603.5,0 657.5,0 657.5,-36\"/>\n",
       "<text text-anchor=\"middle\" x=\"630.5\" y=\"-13.32\" font-family=\"Helvetica,sans-Serif\" font-size=\"14.00\">(...)</text>\n",
       "</g>\n",
       "<!-- 108&#45;&gt;109 -->\n",
       "<g id=\"edge13\" class=\"edge\">\n",
       "<title>108&#45;&gt;109</title>\n",
       "<path fill=\"none\" stroke=\"black\" d=\"M653.71,-71.78C650.09,-63.56 646.18,-54.65 642.6,-46.53\"/>\n",
       "<polygon fill=\"black\" stroke=\"black\" points=\"645.85,-45.22 638.62,-37.47 639.44,-48.03 645.85,-45.22\"/>\n",
       "</g>\n",
       "<!-- 238 -->\n",
       "<g id=\"node15\" class=\"node\">\n",
       "<title>238</title>\n",
       "<polygon fill=\"#c0c0c0\" stroke=\"black\" points=\"729.5,-36 675.5,-36 675.5,0 729.5,0 729.5,-36\"/>\n",
       "<text text-anchor=\"middle\" x=\"702.5\" y=\"-13.32\" font-family=\"Helvetica,sans-Serif\" font-size=\"14.00\">(...)</text>\n",
       "</g>\n",
       "<!-- 108&#45;&gt;238 -->\n",
       "<g id=\"edge14\" class=\"edge\">\n",
       "<title>108&#45;&gt;238</title>\n",
       "<path fill=\"none\" stroke=\"black\" d=\"M679.29,-71.78C682.91,-63.56 686.82,-54.65 690.4,-46.53\"/>\n",
       "<polygon fill=\"black\" stroke=\"black\" points=\"693.56,-48.03 694.38,-37.47 687.15,-45.22 693.56,-48.03\"/>\n",
       "</g>\n",
       "</g>\n",
       "</svg>\n"
      ],
      "text/plain": [
       "<graphviz.sources.Source at 0x7d4421d49870>"
      ]
     },
     "metadata": {},
     "output_type": "display_data"
    }
   ],
   "source": [
    "# Tree Visualisation\n",
    "from sklearn.tree import export_graphviz\n",
    "from IPython.display import Image\n",
    "import graphviz\n",
    "\n",
    "# Export the first three decision trees from the forest\n",
    "\n",
    "for i in range(3):\n",
    "    tree = model.estimators_[i]\n",
    "    dot_data = export_graphviz(tree,\n",
    "                               feature_names=X.columns,  \n",
    "                               filled=True,  \n",
    "                               max_depth=2, \n",
    "                               impurity=False, \n",
    "                               proportion=True)\n",
    "    graph = graphviz.Source(dot_data)\n",
    "    display(graph)\n",
    "\n"
   ]
  },
  {
   "cell_type": "code",
   "execution_count": 17,
   "id": "b7a1a01b",
   "metadata": {
    "execution": {
     "iopub.execute_input": "2024-06-03T19:35:52.768648Z",
     "iopub.status.busy": "2024-06-03T19:35:52.768263Z",
     "iopub.status.idle": "2024-06-03T19:36:18.643738Z",
     "shell.execute_reply": "2024-06-03T19:36:18.642608Z"
    },
    "papermill": {
     "duration": 25.890782,
     "end_time": "2024-06-03T19:36:18.646402",
     "exception": false,
     "start_time": "2024-06-03T19:35:52.755620",
     "status": "completed"
    },
    "tags": []
   },
   "outputs": [
    {
     "data": {
      "text/html": [
       "<style>#sk-container-id-1 {color: black;background-color: white;}#sk-container-id-1 pre{padding: 0;}#sk-container-id-1 div.sk-toggleable {background-color: white;}#sk-container-id-1 label.sk-toggleable__label {cursor: pointer;display: block;width: 100%;margin-bottom: 0;padding: 0.3em;box-sizing: border-box;text-align: center;}#sk-container-id-1 label.sk-toggleable__label-arrow:before {content: \"▸\";float: left;margin-right: 0.25em;color: #696969;}#sk-container-id-1 label.sk-toggleable__label-arrow:hover:before {color: black;}#sk-container-id-1 div.sk-estimator:hover label.sk-toggleable__label-arrow:before {color: black;}#sk-container-id-1 div.sk-toggleable__content {max-height: 0;max-width: 0;overflow: hidden;text-align: left;background-color: #f0f8ff;}#sk-container-id-1 div.sk-toggleable__content pre {margin: 0.2em;color: black;border-radius: 0.25em;background-color: #f0f8ff;}#sk-container-id-1 input.sk-toggleable__control:checked~div.sk-toggleable__content {max-height: 200px;max-width: 100%;overflow: auto;}#sk-container-id-1 input.sk-toggleable__control:checked~label.sk-toggleable__label-arrow:before {content: \"▾\";}#sk-container-id-1 div.sk-estimator input.sk-toggleable__control:checked~label.sk-toggleable__label {background-color: #d4ebff;}#sk-container-id-1 div.sk-label input.sk-toggleable__control:checked~label.sk-toggleable__label {background-color: #d4ebff;}#sk-container-id-1 input.sk-hidden--visually {border: 0;clip: rect(1px 1px 1px 1px);clip: rect(1px, 1px, 1px, 1px);height: 1px;margin: -1px;overflow: hidden;padding: 0;position: absolute;width: 1px;}#sk-container-id-1 div.sk-estimator {font-family: monospace;background-color: #f0f8ff;border: 1px dotted black;border-radius: 0.25em;box-sizing: border-box;margin-bottom: 0.5em;}#sk-container-id-1 div.sk-estimator:hover {background-color: #d4ebff;}#sk-container-id-1 div.sk-parallel-item::after {content: \"\";width: 100%;border-bottom: 1px solid gray;flex-grow: 1;}#sk-container-id-1 div.sk-label:hover label.sk-toggleable__label {background-color: #d4ebff;}#sk-container-id-1 div.sk-serial::before {content: \"\";position: absolute;border-left: 1px solid gray;box-sizing: border-box;top: 0;bottom: 0;left: 50%;z-index: 0;}#sk-container-id-1 div.sk-serial {display: flex;flex-direction: column;align-items: center;background-color: white;padding-right: 0.2em;padding-left: 0.2em;position: relative;}#sk-container-id-1 div.sk-item {position: relative;z-index: 1;}#sk-container-id-1 div.sk-parallel {display: flex;align-items: stretch;justify-content: center;background-color: white;position: relative;}#sk-container-id-1 div.sk-item::before, #sk-container-id-1 div.sk-parallel-item::before {content: \"\";position: absolute;border-left: 1px solid gray;box-sizing: border-box;top: 0;bottom: 0;left: 50%;z-index: -1;}#sk-container-id-1 div.sk-parallel-item {display: flex;flex-direction: column;z-index: 1;position: relative;background-color: white;}#sk-container-id-1 div.sk-parallel-item:first-child::after {align-self: flex-end;width: 50%;}#sk-container-id-1 div.sk-parallel-item:last-child::after {align-self: flex-start;width: 50%;}#sk-container-id-1 div.sk-parallel-item:only-child::after {width: 0;}#sk-container-id-1 div.sk-dashed-wrapped {border: 1px dashed gray;margin: 0 0.4em 0.5em 0.4em;box-sizing: border-box;padding-bottom: 0.4em;background-color: white;}#sk-container-id-1 div.sk-label label {font-family: monospace;font-weight: bold;display: inline-block;line-height: 1.2em;}#sk-container-id-1 div.sk-label-container {text-align: center;}#sk-container-id-1 div.sk-container {/* jupyter's `normalize.less` sets `[hidden] { display: none; }` but bootstrap.min.css set `[hidden] { display: none !important; }` so we also need the `!important` here to be able to override the default hidden behavior on the sphinx rendered scikit-learn.org. See: https://github.com/scikit-learn/scikit-learn/issues/21755 */display: inline-block !important;position: relative;}#sk-container-id-1 div.sk-text-repr-fallback {display: none;}</style><div id=\"sk-container-id-1\" class=\"sk-top-container\"><div class=\"sk-text-repr-fallback\"><pre>RandomizedSearchCV(cv=5, estimator=RandomForestClassifier(), n_iter=5,\n",
       "                   param_distributions={&#x27;max_depth&#x27;: &lt;scipy.stats._distn_infrastructure.rv_discrete_frozen object at 0x7d4442881510&gt;,\n",
       "                                        &#x27;n_estimators&#x27;: &lt;scipy.stats._distn_infrastructure.rv_discrete_frozen object at 0x7d4421d4bfa0&gt;})</pre><b>In a Jupyter environment, please rerun this cell to show the HTML representation or trust the notebook. <br />On GitHub, the HTML representation is unable to render, please try loading this page with nbviewer.org.</b></div><div class=\"sk-container\" hidden><div class=\"sk-item sk-dashed-wrapped\"><div class=\"sk-label-container\"><div class=\"sk-label sk-toggleable\"><input class=\"sk-toggleable__control sk-hidden--visually\" id=\"sk-estimator-id-1\" type=\"checkbox\" ><label for=\"sk-estimator-id-1\" class=\"sk-toggleable__label sk-toggleable__label-arrow\">RandomizedSearchCV</label><div class=\"sk-toggleable__content\"><pre>RandomizedSearchCV(cv=5, estimator=RandomForestClassifier(), n_iter=5,\n",
       "                   param_distributions={&#x27;max_depth&#x27;: &lt;scipy.stats._distn_infrastructure.rv_discrete_frozen object at 0x7d4442881510&gt;,\n",
       "                                        &#x27;n_estimators&#x27;: &lt;scipy.stats._distn_infrastructure.rv_discrete_frozen object at 0x7d4421d4bfa0&gt;})</pre></div></div></div><div class=\"sk-parallel\"><div class=\"sk-parallel-item\"><div class=\"sk-item\"><div class=\"sk-label-container\"><div class=\"sk-label sk-toggleable\"><input class=\"sk-toggleable__control sk-hidden--visually\" id=\"sk-estimator-id-2\" type=\"checkbox\" ><label for=\"sk-estimator-id-2\" class=\"sk-toggleable__label sk-toggleable__label-arrow\">estimator: RandomForestClassifier</label><div class=\"sk-toggleable__content\"><pre>RandomForestClassifier()</pre></div></div></div><div class=\"sk-serial\"><div class=\"sk-item\"><div class=\"sk-estimator sk-toggleable\"><input class=\"sk-toggleable__control sk-hidden--visually\" id=\"sk-estimator-id-3\" type=\"checkbox\" ><label for=\"sk-estimator-id-3\" class=\"sk-toggleable__label sk-toggleable__label-arrow\">RandomForestClassifier</label><div class=\"sk-toggleable__content\"><pre>RandomForestClassifier()</pre></div></div></div></div></div></div></div></div></div></div>"
      ],
      "text/plain": [
       "RandomizedSearchCV(cv=5, estimator=RandomForestClassifier(), n_iter=5,\n",
       "                   param_distributions={'max_depth': <scipy.stats._distn_infrastructure.rv_discrete_frozen object at 0x7d4442881510>,\n",
       "                                        'n_estimators': <scipy.stats._distn_infrastructure.rv_discrete_frozen object at 0x7d4421d4bfa0>})"
      ]
     },
     "execution_count": 17,
     "metadata": {},
     "output_type": "execute_result"
    }
   ],
   "source": [
    "from sklearn.model_selection import RandomizedSearchCV, train_test_split\n",
    "from scipy.stats import randint\n",
    "\n",
    "param_dist = {'n_estimators': randint(50,500),\n",
    "              'max_depth': randint(1,20)}\n",
    "\n",
    "# Create a random forest classifier\n",
    "rf = RandomForestClassifier()\n",
    "\n",
    "# Use random search to find the best hyperparameters\n",
    "rand_search = RandomizedSearchCV(rf, \n",
    "                                 param_distributions = param_dist, \n",
    "                                 n_iter=5, \n",
    "                                 cv=5)\n",
    "\n",
    "# Fit the random search object to the data\n",
    "rand_search.fit(X, y)"
   ]
  },
  {
   "cell_type": "code",
   "execution_count": 18,
   "id": "ae7fa9a6",
   "metadata": {
    "execution": {
     "iopub.execute_input": "2024-06-03T19:36:18.671268Z",
     "iopub.status.busy": "2024-06-03T19:36:18.670891Z",
     "iopub.status.idle": "2024-06-03T19:36:18.676971Z",
     "shell.execute_reply": "2024-06-03T19:36:18.675737Z"
    },
    "papermill": {
     "duration": 0.021586,
     "end_time": "2024-06-03T19:36:18.679434",
     "exception": false,
     "start_time": "2024-06-03T19:36:18.657848",
     "status": "completed"
    },
    "tags": []
   },
   "outputs": [
    {
     "name": "stdout",
     "output_type": "stream",
     "text": [
      "Best hyperparameters: {'max_depth': 10, 'n_estimators': 454}\n"
     ]
    }
   ],
   "source": [
    "# Create a variable for the best model\n",
    "best_rf = rand_search.best_estimator_\n",
    "\n",
    "# Print the best hyperparameters\n",
    "print('Best hyperparameters:',  rand_search.best_params_)"
   ]
  },
  {
   "cell_type": "code",
   "execution_count": 19,
   "id": "6d6b112f",
   "metadata": {
    "execution": {
     "iopub.execute_input": "2024-06-03T19:36:18.703977Z",
     "iopub.status.busy": "2024-06-03T19:36:18.703555Z",
     "iopub.status.idle": "2024-06-03T19:36:19.130715Z",
     "shell.execute_reply": "2024-06-03T19:36:19.129516Z"
    },
    "papermill": {
     "duration": 0.442395,
     "end_time": "2024-06-03T19:36:19.133338",
     "exception": false,
     "start_time": "2024-06-03T19:36:18.690943",
     "status": "completed"
    },
    "tags": []
   },
   "outputs": [
    {
     "data": {
      "image/png": "[encoded data removed]",
      "text/plain": [
       "<Figure size 640x480 with 2 Axes>"
      ]
     },
     "metadata": {},
     "output_type": "display_data"
    }
   ],
   "source": [
    "# Generate predictions with the best model\n",
    "y_pred = best_rf.predict(X)\n",
    "\n",
    "# Create the confusion matrix\n",
    "cm = confusion_matrix(y, y_pred)\n",
    "\n",
    "ConfusionMatrixDisplay(confusion_matrix=cm).plot();"
   ]
  },
  {
   "cell_type": "code",
   "execution_count": 20,
   "id": "6dd07017",
   "metadata": {
    "execution": {
     "iopub.execute_input": "2024-06-03T19:36:19.159006Z",
     "iopub.status.busy": "2024-06-03T19:36:19.158531Z",
     "iopub.status.idle": "2024-06-03T19:36:19.260536Z",
     "shell.execute_reply": "2024-06-03T19:36:19.259086Z"
    },
    "papermill": {
     "duration": 0.117941,
     "end_time": "2024-06-03T19:36:19.263429",
     "exception": false,
     "start_time": "2024-06-03T19:36:19.145488",
     "status": "completed"
    },
    "tags": []
   },
   "outputs": [
    {
     "name": "stdout",
     "output_type": "stream",
     "text": [
      "Accuracy: 0.9393939393939394\n",
      "Precision: 0.9615384615384616\n",
      "Recall: 0.8771929824561403\n"
     ]
    }
   ],
   "source": [
    "y_pred = best_rf.predict(X)\n",
    "\n",
    "accuracy = accuracy_score(y, y_pred)\n",
    "precision = precision_score(y, y_pred)\n",
    "recall = recall_score(y, y_pred)\n",
    "\n",
    "print(\"Accuracy:\", accuracy)\n",
    "print(\"Precision:\", precision)\n",
    "print(\"Recall:\", recall)"
   ]
  },
  {
   "cell_type": "code",
   "execution_count": 21,
   "id": "f5c34d30",
   "metadata": {
    "execution": {
     "iopub.execute_input": "2024-06-03T19:36:19.289262Z",
     "iopub.status.busy": "2024-06-03T19:36:19.288878Z",
     "iopub.status.idle": "2024-06-03T19:36:19.620158Z",
     "shell.execute_reply": "2024-06-03T19:36:19.619003Z"
    },
    "papermill": {
     "duration": 0.347445,
     "end_time": "2024-06-03T19:36:19.622921",
     "exception": false,
     "start_time": "2024-06-03T19:36:19.275476",
     "status": "completed"
    },
    "tags": []
   },
   "outputs": [
    {
     "data": {
      "image/png": "[encoded data removed]",
      "text/plain": [
       "<Figure size 640x480 with 1 Axes>"
      ]
     },
     "metadata": {},
     "output_type": "display_data"
    }
   ],
   "source": [
    "# Create a series containing feature importances from the model and feature names from the training data\n",
    "feature_importances = pd.Series(best_rf.feature_importances_, index=X.columns).sort_values(ascending=False)\n",
    "\n",
    "# Plot a simple bar chart\n",
    "feature_importances.plot.bar();"
   ]
  }
 ],
 "metadata": {
  "kaggle": {
   "accelerator": "none",
   "dataSources": [
    {
     "databundleVersionId": 26502,
     "sourceId": 3136,
     "sourceType": "competition"
    }
   ],
   "dockerImageVersionId": 30715,
   "isGpuEnabled": false,
   "isInternetEnabled": true,
   "language": "python",
   "sourceType": "notebook"
  },
  "kernelspec": {
   "display_name": "Python 3",
   "language": "python",
   "name": "python3"
  },
  "language_info": {
   "codemirror_mode": {
    "name": "ipython",
    "version": 3
   },
   "file_extension": ".py",
   "mimetype": "text/x-python",
   "name": "python",
   "nbconvert_exporter": "python",
   "pygments_lexer": "ipython3",
   "version": "3.10.13"
  },
  "papermill": {
   "default_parameters": {},
   "duration": 34.315785,
   "end_time": "2024-06-03T19:36:20.257222",
   "environment_variables": {},
   "exception": null,
   "input_path": "__notebook__.ipynb",
   "output_path": "__notebook__.ipynb",
   "parameters": {},
   "start_time": "2024-06-03T19:35:45.941437",
   "version": "2.5.0"
  }
 },
 "nbformat": 4,
 "nbformat_minor": 5
}
