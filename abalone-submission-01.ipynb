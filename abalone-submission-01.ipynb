{
 "cells": [
  {
   "cell_type": "markdown",
   "id": "a16c996a",
   "metadata": {
    "papermill": {
     "duration": 0.004891,
     "end_time": "2024-12-23T15:24:37.925763",
     "exception": false,
     "start_time": "2024-12-23T15:24:37.920872",
     "status": "completed"
    },
    "tags": []
   },
   "source": [
    "I have another notebook where I examine data and explore various options.  \n",
    "However, that takes a while to run and is full of extraneous information.\n",
    "Here I distill everything down to a working example that I would like to submit..."
   ]
  },
  {
   "cell_type": "code",
   "execution_count": 1,
   "id": "8041006b",
   "metadata": {
    "execution": {
     "iopub.execute_input": "2024-12-23T15:24:37.935811Z",
     "iopub.status.busy": "2024-12-23T15:24:37.935376Z",
     "iopub.status.idle": "2024-12-23T15:24:40.603503Z",
     "shell.execute_reply": "2024-12-23T15:24:40.602316Z"
    },
    "papermill": {
     "duration": 2.675427,
     "end_time": "2024-12-23T15:24:40.605613",
     "exception": false,
     "start_time": "2024-12-23T15:24:37.930186",
     "status": "completed"
    },
    "tags": []
   },
   "outputs": [],
   "source": [
    "import numpy as np # linear algebra\n",
    "import pandas as pd # data processing, CSV file I/O (e.g. pd.read_csv)\n",
    "\n",
    "import seaborn as sns\n",
    "import plotly.express as px\n",
    "import matplotlib.pyplot as plt"
   ]
  },
  {
   "cell_type": "code",
   "execution_count": 2,
   "id": "4135dd5a",
   "metadata": {
    "execution": {
     "iopub.execute_input": "2024-12-23T15:24:40.614852Z",
     "iopub.status.busy": "2024-12-23T15:24:40.614231Z",
     "iopub.status.idle": "2024-12-23T15:24:40.817005Z",
     "shell.execute_reply": "2024-12-23T15:24:40.815845Z"
    },
    "papermill": {
     "duration": 0.209447,
     "end_time": "2024-12-23T15:24:40.819085",
     "exception": false,
     "start_time": "2024-12-23T15:24:40.609638",
     "status": "completed"
    },
    "tags": []
   },
   "outputs": [],
   "source": [
    "file_path = '/kaggle/input/abalone/train.csv'\n",
    "train_df = pd.read_csv(file_path)"
   ]
  },
  {
   "cell_type": "code",
   "execution_count": 3,
   "id": "9fcb46a7",
   "metadata": {
    "execution": {
     "iopub.execute_input": "2024-12-23T15:24:40.827872Z",
     "iopub.status.busy": "2024-12-23T15:24:40.827511Z",
     "iopub.status.idle": "2024-12-23T15:24:40.879394Z",
     "shell.execute_reply": "2024-12-23T15:24:40.878113Z"
    },
    "papermill": {
     "duration": 0.058372,
     "end_time": "2024-12-23T15:24:40.881279",
     "exception": false,
     "start_time": "2024-12-23T15:24:40.822907",
     "status": "completed"
    },
    "tags": []
   },
   "outputs": [
    {
     "name": "stdout",
     "output_type": "stream",
     "text": [
      "   id  Length  Diameter  Height  Whole weight  Whole weight.1  Whole weight.2  \\\n",
      "0   0   0.550     0.430   0.150        0.7715          0.3285          0.1465   \n",
      "1   1   0.630     0.490   0.145        1.1300          0.4580          0.2765   \n",
      "2   2   0.160     0.110   0.025        0.0210          0.0055          0.0030   \n",
      "3   3   0.595     0.475   0.150        0.9145          0.3755          0.2055   \n",
      "4   4   0.555     0.425   0.130        0.7820          0.3695          0.1600   \n",
      "\n",
      "   Shell weight  Rings  Sex_I  Sex_M  \n",
      "0        0.2400     11  False  False  \n",
      "1        0.3200     11  False  False  \n",
      "2        0.0050      6   True  False  \n",
      "3        0.2500     10  False   True  \n",
      "4        0.1975      9   True  False  \n"
     ]
    }
   ],
   "source": [
    "# One-hot encode 'Sex'\n",
    "train_df = pd.get_dummies(train_df, columns=['Sex'], drop_first=True)\n",
    "\n",
    "# View the updated dataset\n",
    "print(train_df.head())"
   ]
  },
  {
   "cell_type": "code",
   "execution_count": 4,
   "id": "27af5e2c",
   "metadata": {
    "execution": {
     "iopub.execute_input": "2024-12-23T15:24:40.890613Z",
     "iopub.status.busy": "2024-12-23T15:24:40.890162Z",
     "iopub.status.idle": "2024-12-23T15:24:40.901481Z",
     "shell.execute_reply": "2024-12-23T15:24:40.900006Z"
    },
    "papermill": {
     "duration": 0.018168,
     "end_time": "2024-12-23T15:24:40.903443",
     "exception": false,
     "start_time": "2024-12-23T15:24:40.885275",
     "status": "completed"
    },
    "tags": []
   },
   "outputs": [
    {
     "name": "stdout",
     "output_type": "stream",
     "text": [
      "   Shell weight  Height  Diameter  Whole weight  Rings  Sex_I  Sex_M\n",
      "0        0.2400   0.150     0.430        0.7715     11  False  False\n",
      "1        0.3200   0.145     0.490        1.1300     11  False  False\n",
      "2        0.0050   0.025     0.110        0.0210      6   True  False\n",
      "3        0.2500   0.150     0.475        0.9145     10  False   True\n",
      "4        0.1975   0.130     0.425        0.7820      9   True  False\n"
     ]
    }
   ],
   "source": [
    "# Retain only selected features\n",
    "selected_features = ['Shell weight', 'Height', 'Diameter', 'Whole weight', 'Rings', 'Sex_I', 'Sex_M']\n",
    "train_df_selected = train_df[selected_features]\n",
    "\n",
    "# Confirm the updated dataset\n",
    "print(train_df_selected.head())"
   ]
  },
  {
   "cell_type": "code",
   "execution_count": 5,
   "id": "57e092e1",
   "metadata": {
    "execution": {
     "iopub.execute_input": "2024-12-23T15:24:40.913012Z",
     "iopub.status.busy": "2024-12-23T15:24:40.912459Z",
     "iopub.status.idle": "2024-12-23T15:24:41.251372Z",
     "shell.execute_reply": "2024-12-23T15:24:41.250130Z"
    },
    "papermill": {
     "duration": 0.345757,
     "end_time": "2024-12-23T15:24:41.253240",
     "exception": false,
     "start_time": "2024-12-23T15:24:40.907483",
     "status": "completed"
    },
    "tags": []
   },
   "outputs": [
    {
     "name": "stdout",
     "output_type": "stream",
     "text": [
      "Training set size: (72492, 6)\n",
      "Testing set size: (18123, 6)\n"
     ]
    }
   ],
   "source": [
    "from sklearn.model_selection import train_test_split\n",
    "\n",
    "# Define features (X) and target (y)\n",
    "X = train_df_selected.drop(columns=['Rings'])  # Features\n",
    "y = train_df_selected['Rings']                # Target variable\n",
    "\n",
    "# Split the data\n",
    "X_train, X_test, y_train, y_test = train_test_split(X, y, test_size=0.2, random_state=42)\n",
    "\n",
    "# Confirm the split\n",
    "print(\"Training set size:\", X_train.shape)\n",
    "print(\"Testing set size:\", X_test.shape)"
   ]
  },
  {
   "cell_type": "markdown",
   "id": "e970b794",
   "metadata": {
    "papermill": {
     "duration": 0.003651,
     "end_time": "2024-12-23T15:24:41.261167",
     "exception": false,
     "start_time": "2024-12-23T15:24:41.257516",
     "status": "completed"
    },
    "tags": []
   },
   "source": [
    "Now prep the final test data in the same way\n",
    "\n",
    "Note that as this solution uses forests (and not linear regression) there is no value in using StandardScaler to scale data..."
   ]
  },
  {
   "cell_type": "code",
   "execution_count": 6,
   "id": "2a7b82d8",
   "metadata": {
    "_cell_guid": "b1076dfc-b9ad-4769-8c92-a6c4dae69d19",
    "_uuid": "8f2839f25d086af736a60e9eeb907d3b93b6e0e5",
    "execution": {
     "iopub.execute_input": "2024-12-23T15:24:41.270376Z",
     "iopub.status.busy": "2024-12-23T15:24:41.269964Z",
     "iopub.status.idle": "2024-12-23T15:24:41.420203Z",
     "shell.execute_reply": "2024-12-23T15:24:41.419097Z"
    },
    "papermill": {
     "duration": 0.156946,
     "end_time": "2024-12-23T15:24:41.421936",
     "exception": false,
     "start_time": "2024-12-23T15:24:41.264990",
     "status": "completed"
    },
    "tags": []
   },
   "outputs": [
    {
     "data": {
      "text/html": [
       "<div>\n",
       "<style scoped>\n",
       "    .dataframe tbody tr th:only-of-type {\n",
       "        vertical-align: middle;\n",
       "    }\n",
       "\n",
       "    .dataframe tbody tr th {\n",
       "        vertical-align: top;\n",
       "    }\n",
       "\n",
       "    .dataframe thead th {\n",
       "        text-align: right;\n",
       "    }\n",
       "</style>\n",
       "<table border=\"1\" class=\"dataframe\">\n",
       "  <thead>\n",
       "    <tr style=\"text-align: right;\">\n",
       "      <th></th>\n",
       "      <th>id</th>\n",
       "      <th>Length</th>\n",
       "      <th>Diameter</th>\n",
       "      <th>Height</th>\n",
       "      <th>Whole weight</th>\n",
       "      <th>Whole weight.1</th>\n",
       "      <th>Whole weight.2</th>\n",
       "      <th>Shell weight</th>\n",
       "      <th>Sex_I</th>\n",
       "      <th>Sex_M</th>\n",
       "    </tr>\n",
       "  </thead>\n",
       "  <tbody>\n",
       "    <tr>\n",
       "      <th>0</th>\n",
       "      <td>90615</td>\n",
       "      <td>0.645</td>\n",
       "      <td>0.475</td>\n",
       "      <td>0.155</td>\n",
       "      <td>1.2380</td>\n",
       "      <td>0.6185</td>\n",
       "      <td>0.3125</td>\n",
       "      <td>0.3005</td>\n",
       "      <td>False</td>\n",
       "      <td>True</td>\n",
       "    </tr>\n",
       "    <tr>\n",
       "      <th>1</th>\n",
       "      <td>90616</td>\n",
       "      <td>0.580</td>\n",
       "      <td>0.460</td>\n",
       "      <td>0.160</td>\n",
       "      <td>0.9830</td>\n",
       "      <td>0.4785</td>\n",
       "      <td>0.2195</td>\n",
       "      <td>0.2750</td>\n",
       "      <td>False</td>\n",
       "      <td>True</td>\n",
       "    </tr>\n",
       "    <tr>\n",
       "      <th>2</th>\n",
       "      <td>90617</td>\n",
       "      <td>0.560</td>\n",
       "      <td>0.420</td>\n",
       "      <td>0.140</td>\n",
       "      <td>0.8395</td>\n",
       "      <td>0.3525</td>\n",
       "      <td>0.1845</td>\n",
       "      <td>0.2405</td>\n",
       "      <td>False</td>\n",
       "      <td>True</td>\n",
       "    </tr>\n",
       "    <tr>\n",
       "      <th>3</th>\n",
       "      <td>90618</td>\n",
       "      <td>0.570</td>\n",
       "      <td>0.490</td>\n",
       "      <td>0.145</td>\n",
       "      <td>0.8740</td>\n",
       "      <td>0.3525</td>\n",
       "      <td>0.1865</td>\n",
       "      <td>0.2350</td>\n",
       "      <td>False</td>\n",
       "      <td>True</td>\n",
       "    </tr>\n",
       "    <tr>\n",
       "      <th>4</th>\n",
       "      <td>90619</td>\n",
       "      <td>0.415</td>\n",
       "      <td>0.325</td>\n",
       "      <td>0.110</td>\n",
       "      <td>0.3580</td>\n",
       "      <td>0.1575</td>\n",
       "      <td>0.0670</td>\n",
       "      <td>0.1050</td>\n",
       "      <td>True</td>\n",
       "      <td>False</td>\n",
       "    </tr>\n",
       "  </tbody>\n",
       "</table>\n",
       "</div>"
      ],
      "text/plain": [
       "      id  Length  Diameter  Height  Whole weight  Whole weight.1  \\\n",
       "0  90615   0.645     0.475   0.155        1.2380          0.6185   \n",
       "1  90616   0.580     0.460   0.160        0.9830          0.4785   \n",
       "2  90617   0.560     0.420   0.140        0.8395          0.3525   \n",
       "3  90618   0.570     0.490   0.145        0.8740          0.3525   \n",
       "4  90619   0.415     0.325   0.110        0.3580          0.1575   \n",
       "\n",
       "   Whole weight.2  Shell weight  Sex_I  Sex_M  \n",
       "0          0.3125        0.3005  False   True  \n",
       "1          0.2195        0.2750  False   True  \n",
       "2          0.1845        0.2405  False   True  \n",
       "3          0.1865        0.2350  False   True  \n",
       "4          0.0670        0.1050   True  False  "
      ]
     },
     "execution_count": 6,
     "metadata": {},
     "output_type": "execute_result"
    }
   ],
   "source": [
    "# Read the test data\n",
    "submission = pd.read_csv('/kaggle/input/abalone/test.csv')\n",
    "\n",
    "# One-hot encode 'Sex'\n",
    "submission_df = pd.get_dummies(submission, columns=['Sex'], drop_first=True)\n",
    "\n",
    "submission_df.head()"
   ]
  },
  {
   "cell_type": "code",
   "execution_count": 7,
   "id": "80204f05",
   "metadata": {
    "execution": {
     "iopub.execute_input": "2024-12-23T15:24:41.432204Z",
     "iopub.status.busy": "2024-12-23T15:24:41.431789Z",
     "iopub.status.idle": "2024-12-23T15:24:41.445437Z",
     "shell.execute_reply": "2024-12-23T15:24:41.444210Z"
    },
    "papermill": {
     "duration": 0.020946,
     "end_time": "2024-12-23T15:24:41.447454",
     "exception": false,
     "start_time": "2024-12-23T15:24:41.426508",
     "status": "completed"
    },
    "tags": []
   },
   "outputs": [
    {
     "data": {
      "text/html": [
       "<div>\n",
       "<style scoped>\n",
       "    .dataframe tbody tr th:only-of-type {\n",
       "        vertical-align: middle;\n",
       "    }\n",
       "\n",
       "    .dataframe tbody tr th {\n",
       "        vertical-align: top;\n",
       "    }\n",
       "\n",
       "    .dataframe thead th {\n",
       "        text-align: right;\n",
       "    }\n",
       "</style>\n",
       "<table border=\"1\" class=\"dataframe\">\n",
       "  <thead>\n",
       "    <tr style=\"text-align: right;\">\n",
       "      <th></th>\n",
       "      <th>Shell weight</th>\n",
       "      <th>Height</th>\n",
       "      <th>Diameter</th>\n",
       "      <th>Whole weight</th>\n",
       "      <th>Sex_I</th>\n",
       "      <th>Sex_M</th>\n",
       "    </tr>\n",
       "  </thead>\n",
       "  <tbody>\n",
       "    <tr>\n",
       "      <th>0</th>\n",
       "      <td>0.3005</td>\n",
       "      <td>0.155</td>\n",
       "      <td>0.475</td>\n",
       "      <td>1.2380</td>\n",
       "      <td>False</td>\n",
       "      <td>True</td>\n",
       "    </tr>\n",
       "    <tr>\n",
       "      <th>1</th>\n",
       "      <td>0.2750</td>\n",
       "      <td>0.160</td>\n",
       "      <td>0.460</td>\n",
       "      <td>0.9830</td>\n",
       "      <td>False</td>\n",
       "      <td>True</td>\n",
       "    </tr>\n",
       "    <tr>\n",
       "      <th>2</th>\n",
       "      <td>0.2405</td>\n",
       "      <td>0.140</td>\n",
       "      <td>0.420</td>\n",
       "      <td>0.8395</td>\n",
       "      <td>False</td>\n",
       "      <td>True</td>\n",
       "    </tr>\n",
       "    <tr>\n",
       "      <th>3</th>\n",
       "      <td>0.2350</td>\n",
       "      <td>0.145</td>\n",
       "      <td>0.490</td>\n",
       "      <td>0.8740</td>\n",
       "      <td>False</td>\n",
       "      <td>True</td>\n",
       "    </tr>\n",
       "    <tr>\n",
       "      <th>4</th>\n",
       "      <td>0.1050</td>\n",
       "      <td>0.110</td>\n",
       "      <td>0.325</td>\n",
       "      <td>0.3580</td>\n",
       "      <td>True</td>\n",
       "      <td>False</td>\n",
       "    </tr>\n",
       "  </tbody>\n",
       "</table>\n",
       "</div>"
      ],
      "text/plain": [
       "   Shell weight  Height  Diameter  Whole weight  Sex_I  Sex_M\n",
       "0        0.3005   0.155     0.475        1.2380  False   True\n",
       "1        0.2750   0.160     0.460        0.9830  False   True\n",
       "2        0.2405   0.140     0.420        0.8395  False   True\n",
       "3        0.2350   0.145     0.490        0.8740  False   True\n",
       "4        0.1050   0.110     0.325        0.3580   True  False"
      ]
     },
     "execution_count": 7,
     "metadata": {},
     "output_type": "execute_result"
    }
   ],
   "source": [
    "test_selected_features = ['Shell weight', 'Height', 'Diameter', 'Whole weight', 'Sex_I', 'Sex_M']\n",
    "\n",
    "submission_selected = submission_df[test_selected_features]\n",
    "\n",
    "#submission_scaled = submission_selected.copy()\n",
    "#submission_scaled[numerical_features] = scaler.transform(submission_df[numerical_features])\n",
    "\n",
    "submission_selected.head()"
   ]
  },
  {
   "cell_type": "markdown",
   "id": "ef8b325e",
   "metadata": {
    "papermill": {
     "duration": 0.004002,
     "end_time": "2024-12-23T15:24:41.456023",
     "exception": false,
     "start_time": "2024-12-23T15:24:41.452021",
     "status": "completed"
    },
    "tags": []
   },
   "source": [
    "Build out the tree on the training data\n",
    "The max depth and number of estimators is taken from a RandomizedSearchCV which is not done here, as it take a while to run"
   ]
  },
  {
   "cell_type": "code",
   "execution_count": 8,
   "id": "0b3a65ee",
   "metadata": {
    "execution": {
     "iopub.execute_input": "2024-12-23T15:24:41.465913Z",
     "iopub.status.busy": "2024-12-23T15:24:41.465571Z",
     "iopub.status.idle": "2024-12-23T15:25:31.773337Z",
     "shell.execute_reply": "2024-12-23T15:25:31.772192Z"
    },
    "papermill": {
     "duration": 50.319292,
     "end_time": "2024-12-23T15:25:31.779683",
     "exception": false,
     "start_time": "2024-12-23T15:24:41.460391",
     "status": "completed"
    },
    "tags": []
   },
   "outputs": [
    {
     "name": "stdout",
     "output_type": "stream",
     "text": [
      "Random Forest Metrics:\n",
      "R^2 Score: 0.590\n",
      "Mean Absolute Error (MAE): 1.394\n",
      "Root Mean Squared Error (RMSE): 2.053\n"
     ]
    }
   ],
   "source": [
    "from sklearn.ensemble import RandomForestRegressor\n",
    "from sklearn.metrics import mean_squared_error, mean_absolute_error, r2_score\n",
    "\n",
    "# Initialize the model\n",
    "rf_model = RandomForestRegressor(max_depth=16, n_estimators=297)\n",
    "\n",
    "# Train the model\n",
    "rf_model.fit(X_train, y_train)  # No scaling needed for tree-based models\n",
    "\n",
    "# Make predictions on the test set\n",
    "y_pred_rf = rf_model.predict(X_test)\n",
    "\n",
    "# Evaluate the model\n",
    "print(\"Random Forest Metrics:\")\n",
    "print(f\"R^2 Score: {r2_score(y_test, y_pred_rf):.3f}\")\n",
    "print(f\"Mean Absolute Error (MAE): {mean_absolute_error(y_test, y_pred_rf):.3f}\")\n",
    "print(f\"Root Mean Squared Error (RMSE): {mean_squared_error(y_test, y_pred_rf, squared=False):.3f}\")"
   ]
  },
  {
   "cell_type": "markdown",
   "id": "7bb14d82",
   "metadata": {
    "papermill": {
     "duration": 0.004116,
     "end_time": "2024-12-23T15:25:31.788705",
     "exception": false,
     "start_time": "2024-12-23T15:25:31.784589",
     "status": "completed"
    },
    "tags": []
   },
   "source": [
    "Use the model created to predict final results"
   ]
  },
  {
   "cell_type": "code",
   "execution_count": 9,
   "id": "1ec5b69d",
   "metadata": {
    "execution": {
     "iopub.execute_input": "2024-12-23T15:25:31.798934Z",
     "iopub.status.busy": "2024-12-23T15:25:31.798531Z",
     "iopub.status.idle": "2024-12-23T15:25:35.561168Z",
     "shell.execute_reply": "2024-12-23T15:25:35.559549Z"
    },
    "papermill": {
     "duration": 3.770075,
     "end_time": "2024-12-23T15:25:35.563170",
     "exception": false,
     "start_time": "2024-12-23T15:25:31.793095",
     "status": "completed"
    },
    "tags": []
   },
   "outputs": [],
   "source": [
    "submission_pred = rf_model.predict(submission_selected)"
   ]
  },
  {
   "cell_type": "markdown",
   "id": "5ee1d5c5",
   "metadata": {
    "papermill": {
     "duration": 0.004212,
     "end_time": "2024-12-23T15:25:35.572161",
     "exception": false,
     "start_time": "2024-12-23T15:25:35.567949",
     "status": "completed"
    },
    "tags": []
   },
   "source": [
    "Combine output with ids in the proper format"
   ]
  },
  {
   "cell_type": "code",
   "execution_count": 10,
   "id": "6ca96b33",
   "metadata": {
    "execution": {
     "iopub.execute_input": "2024-12-23T15:25:35.582426Z",
     "iopub.status.busy": "2024-12-23T15:25:35.581993Z",
     "iopub.status.idle": "2024-12-23T15:25:35.595055Z",
     "shell.execute_reply": "2024-12-23T15:25:35.593714Z"
    },
    "papermill": {
     "duration": 0.020735,
     "end_time": "2024-12-23T15:25:35.597306",
     "exception": false,
     "start_time": "2024-12-23T15:25:35.576571",
     "status": "completed"
    },
    "tags": []
   },
   "outputs": [
    {
     "data": {
      "text/html": [
       "<div>\n",
       "<style scoped>\n",
       "    .dataframe tbody tr th:only-of-type {\n",
       "        vertical-align: middle;\n",
       "    }\n",
       "\n",
       "    .dataframe tbody tr th {\n",
       "        vertical-align: top;\n",
       "    }\n",
       "\n",
       "    .dataframe thead th {\n",
       "        text-align: right;\n",
       "    }\n",
       "</style>\n",
       "<table border=\"1\" class=\"dataframe\">\n",
       "  <thead>\n",
       "    <tr style=\"text-align: right;\">\n",
       "      <th></th>\n",
       "      <th>id</th>\n",
       "      <th>Rings</th>\n",
       "    </tr>\n",
       "  </thead>\n",
       "  <tbody>\n",
       "    <tr>\n",
       "      <th>0</th>\n",
       "      <td>90615</td>\n",
       "      <td>10.021296</td>\n",
       "    </tr>\n",
       "    <tr>\n",
       "      <th>1</th>\n",
       "      <td>90616</td>\n",
       "      <td>10.552638</td>\n",
       "    </tr>\n",
       "    <tr>\n",
       "      <th>2</th>\n",
       "      <td>90617</td>\n",
       "      <td>10.086760</td>\n",
       "    </tr>\n",
       "    <tr>\n",
       "      <th>3</th>\n",
       "      <td>90618</td>\n",
       "      <td>10.943734</td>\n",
       "    </tr>\n",
       "    <tr>\n",
       "      <th>4</th>\n",
       "      <td>90619</td>\n",
       "      <td>7.690498</td>\n",
       "    </tr>\n",
       "  </tbody>\n",
       "</table>\n",
       "</div>"
      ],
      "text/plain": [
       "      id      Rings\n",
       "0  90615  10.021296\n",
       "1  90616  10.552638\n",
       "2  90617  10.086760\n",
       "3  90618  10.943734\n",
       "4  90619   7.690498"
      ]
     },
     "execution_count": 10,
     "metadata": {},
     "output_type": "execute_result"
    }
   ],
   "source": [
    "id_df = submission_df.id\n",
    "pred_df = pd.DataFrame(submission_pred, columns=['Rings'])\n",
    "\n",
    "final_df = pd.concat([id_df, pred_df], axis=1)\n",
    "\n",
    "final_df.head()"
   ]
  },
  {
   "cell_type": "code",
   "execution_count": 11,
   "id": "0f54bdb6",
   "metadata": {
    "execution": {
     "iopub.execute_input": "2024-12-23T15:25:35.608212Z",
     "iopub.status.busy": "2024-12-23T15:25:35.607741Z",
     "iopub.status.idle": "2024-12-23T15:25:35.751337Z",
     "shell.execute_reply": "2024-12-23T15:25:35.750080Z"
    },
    "papermill": {
     "duration": 0.151275,
     "end_time": "2024-12-23T15:25:35.753504",
     "exception": false,
     "start_time": "2024-12-23T15:25:35.602229",
     "status": "completed"
    },
    "tags": []
   },
   "outputs": [],
   "source": [
    "final_df.to_csv('abalone-submission-01.csv', index=False)"
   ]
  }
 ],
 "metadata": {
  "kaggle": {
   "accelerator": "none",
   "dataSources": [
    {
     "datasetId": 6340840,
     "sourceId": 10251383,
     "sourceType": "datasetVersion"
    }
   ],
   "dockerImageVersionId": 30822,
   "isGpuEnabled": false,
   "isInternetEnabled": true,
   "language": "python",
   "sourceType": "notebook"
  },
  "kernelspec": {
   "display_name": "Python 3",
   "language": "python",
   "name": "python3"
  },
  "language_info": {
   "codemirror_mode": {
    "name": "ipython",
    "version": 3
   },
   "file_extension": ".py",
   "mimetype": "text/x-python",
   "name": "python",
   "nbconvert_exporter": "python",
   "pygments_lexer": "ipython3",
   "version": "3.10.12"
  },
  "papermill": {
   "default_parameters": {},
   "duration": 61.067628,
   "end_time": "2024-12-23T15:25:36.580875",
   "environment_variables": {},
   "exception": null,
   "input_path": "__notebook__.ipynb",
   "output_path": "__notebook__.ipynb",
   "parameters": {},
   "start_time": "2024-12-23T15:24:35.513247",
   "version": "2.6.0"
  }
 },
 "nbformat": 4,
 "nbformat_minor": 5
}
