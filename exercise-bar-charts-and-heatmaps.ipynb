{
 "cells": [
  {
   "cell_type": "markdown",
   "id": "5d7bfe42",
   "metadata": {
    "papermill": {
     "duration": 0.007836,
     "end_time": "2024-08-19T05:54:36.845050",
     "exception": false,
     "start_time": "2024-08-19T05:54:36.837214",
     "status": "completed"
    },
    "tags": []
   },
   "source": [
    "**This notebook is an exercise in the [Data Visualization](https://www.kaggle.com/learn/data-visualization) course.  You can reference the tutorial at [this link](https://www.kaggle.com/alexisbcook/bar-charts-and-heatmaps).**\n",
    "\n",
    "---\n"
   ]
  },
  {
   "cell_type": "markdown",
   "id": "c3cb3c3a",
   "metadata": {
    "papermill": {
     "duration": 0.006952,
     "end_time": "2024-08-19T05:54:36.859553",
     "exception": false,
     "start_time": "2024-08-19T05:54:36.852601",
     "status": "completed"
    },
    "tags": []
   },
   "source": [
    "In this exercise, you will use your new knowledge to propose a solution to a real-world scenario.  To succeed, you will need to import data into Python, answer questions using the data, and generate **bar charts** and **heatmaps** to understand patterns in the data.\n",
    "\n",
    "## Scenario\n",
    "\n",
    "You've recently decided to create your very own video game!  As an avid reader of [IGN Game Reviews](https://www.ign.com/reviews/games), you hear about all of the most recent game releases, along with the ranking they've received from experts, ranging from 0 (_Disaster_) to 10 (_Masterpiece_).\n",
    "\n",
    "![ex2_ign](https://storage.googleapis.com/kaggle-media/learn/images/Oh06Fu1.png)\n",
    "\n",
    "You're interested in using [IGN reviews](https://www.ign.com/reviews/games) to guide the design of your upcoming game.  Thankfully, someone has summarized the rankings in a really useful CSV file that you can use to guide your analysis.\n",
    "\n",
    "## Setup\n",
    "\n",
    "Run the next cell to import and configure the Python libraries that you need to complete the exercise."
   ]
  },
  {
   "cell_type": "code",
   "execution_count": 1,
   "id": "befb9460",
   "metadata": {
    "execution": {
     "iopub.execute_input": "2024-08-19T05:54:36.876407Z",
     "iopub.status.busy": "2024-08-19T05:54:36.875868Z",
     "iopub.status.idle": "2024-08-19T05:54:40.103635Z",
     "shell.execute_reply": "2024-08-19T05:54:40.102381Z"
    },
    "papermill": {
     "duration": 3.239749,
     "end_time": "2024-08-19T05:54:40.106818",
     "exception": false,
     "start_time": "2024-08-19T05:54:36.867069",
     "status": "completed"
    },
    "tags": []
   },
   "outputs": [
    {
     "name": "stdout",
     "output_type": "stream",
     "text": [
      "Setup Complete\n"
     ]
    }
   ],
   "source": [
    "import pandas as pd\n",
    "pd.plotting.register_matplotlib_converters()\n",
    "import matplotlib.pyplot as plt\n",
    "%matplotlib inline\n",
    "import seaborn as sns\n",
    "print(\"Setup Complete\")"
   ]
  },
  {
   "cell_type": "markdown",
   "id": "31f621cf",
   "metadata": {
    "papermill": {
     "duration": 0.007328,
     "end_time": "2024-08-19T05:54:40.121876",
     "exception": false,
     "start_time": "2024-08-19T05:54:40.114548",
     "status": "completed"
    },
    "tags": []
   },
   "source": [
    "The questions below will give you feedback on your work. Run the following cell to set up our feedback system."
   ]
  },
  {
   "cell_type": "code",
   "execution_count": 2,
   "id": "5d28ee7c",
   "metadata": {
    "execution": {
     "iopub.execute_input": "2024-08-19T05:54:40.138777Z",
     "iopub.status.busy": "2024-08-19T05:54:40.138163Z",
     "iopub.status.idle": "2024-08-19T05:54:40.247062Z",
     "shell.execute_reply": "2024-08-19T05:54:40.245672Z"
    },
    "papermill": {
     "duration": 0.120316,
     "end_time": "2024-08-19T05:54:40.249716",
     "exception": false,
     "start_time": "2024-08-19T05:54:40.129400",
     "status": "completed"
    },
    "tags": []
   },
   "outputs": [
    {
     "name": "stdout",
     "output_type": "stream",
     "text": [
      "Setup Complete\n"
     ]
    }
   ],
   "source": [
    "# Set up code checking\n",
    "import os\n",
    "if not os.path.exists(\"../input/ign_scores.csv\"):\n",
    "    os.symlink(\"../input/data-for-datavis/ign_scores.csv\", \"../input/ign_scores.csv\") \n",
    "from learntools.core import binder\n",
    "binder.bind(globals())\n",
    "from learntools.data_viz_to_coder.ex3 import *\n",
    "print(\"Setup Complete\")"
   ]
  },
  {
   "cell_type": "markdown",
   "id": "8d73efc9",
   "metadata": {
    "papermill": {
     "duration": 0.007427,
     "end_time": "2024-08-19T05:54:40.265074",
     "exception": false,
     "start_time": "2024-08-19T05:54:40.257647",
     "status": "completed"
    },
    "tags": []
   },
   "source": [
    "## Step 1: Load the data\n",
    "\n",
    "Read the IGN data file into `ign_data`.  Use the `\"Platform\"` column to label the rows."
   ]
  },
  {
   "cell_type": "code",
   "execution_count": 3,
   "id": "911df230",
   "metadata": {
    "execution": {
     "iopub.execute_input": "2024-08-19T05:54:40.283376Z",
     "iopub.status.busy": "2024-08-19T05:54:40.282902Z",
     "iopub.status.idle": "2024-08-19T05:54:40.295383Z",
     "shell.execute_reply": "2024-08-19T05:54:40.294101Z"
    },
    "papermill": {
     "duration": 0.024633,
     "end_time": "2024-08-19T05:54:40.297835",
     "exception": false,
     "start_time": "2024-08-19T05:54:40.273202",
     "status": "completed"
    },
    "tags": []
   },
   "outputs": [
    {
     "data": {
      "application/javascript": [
       "parent.postMessage({\"jupyterEvent\": \"custom.exercise_interaction\", \"data\": {\"outcomeType\": 4, \"interactionType\": 1, \"questionType\": 1, \"questionId\": \"1_LoadIGNData\", \"learnToolsVersion\": \"0.3.4\", \"valueTowardsCompletion\": 0.0, \"failureMessage\": \"\", \"exceptionClass\": \"\", \"trace\": \"\"}}, \"*\")"
      ],
      "text/plain": [
       "<IPython.core.display.Javascript object>"
      ]
     },
     "metadata": {},
     "output_type": "display_data"
    },
    {
     "data": {
      "text/markdown": [
       "<span style=\"color:#ccaa33\">Check:</span> When you've updated the starter code, `check()` will tell you whether your code is correct. You need to update the code that creates variable `ign_data`"
      ],
      "text/plain": [
       "Check: When you've updated the starter code, `check()` will tell you whether your code is correct. You need to update the code that creates variable `ign_data`"
      ]
     },
     "metadata": {},
     "output_type": "display_data"
    }
   ],
   "source": [
    "# Path of the file to read\n",
    "ign_filepath = \"../input/ign_scores.csv\"\n",
    "\n",
    "# Fill in the line below to read the file into a variable ign_data\n",
    "ign_data = ____\n",
    "\n",
    "# Run the line below with no changes to check that you've loaded the data correctly\n",
    "step_1.check()"
   ]
  },
  {
   "cell_type": "code",
   "execution_count": 4,
   "id": "7cf60d69",
   "metadata": {
    "execution": {
     "iopub.execute_input": "2024-08-19T05:54:40.315657Z",
     "iopub.status.busy": "2024-08-19T05:54:40.315236Z",
     "iopub.status.idle": "2024-08-19T05:54:40.321518Z",
     "shell.execute_reply": "2024-08-19T05:54:40.320315Z"
    },
    "papermill": {
     "duration": 0.018635,
     "end_time": "2024-08-19T05:54:40.324584",
     "exception": false,
     "start_time": "2024-08-19T05:54:40.305949",
     "status": "completed"
    },
    "tags": []
   },
   "outputs": [],
   "source": [
    "# Lines below will give you a hint or solution code\n",
    "#step_1.hint()\n",
    "#step_1.solution()"
   ]
  },
  {
   "cell_type": "markdown",
   "id": "6c7cd4b0",
   "metadata": {
    "papermill": {
     "duration": 0.007742,
     "end_time": "2024-08-19T05:54:40.340558",
     "exception": false,
     "start_time": "2024-08-19T05:54:40.332816",
     "status": "completed"
    },
    "tags": []
   },
   "source": [
    "## Step 2: Review the data\n",
    "\n",
    "Use a Python command to print the entire dataset."
   ]
  },
  {
   "cell_type": "code",
   "execution_count": 5,
   "id": "53ffd168",
   "metadata": {
    "execution": {
     "iopub.execute_input": "2024-08-19T05:54:40.358700Z",
     "iopub.status.busy": "2024-08-19T05:54:40.358331Z",
     "iopub.status.idle": "2024-08-19T05:54:40.365208Z",
     "shell.execute_reply": "2024-08-19T05:54:40.364141Z"
    },
    "papermill": {
     "duration": 0.019094,
     "end_time": "2024-08-19T05:54:40.367730",
     "exception": false,
     "start_time": "2024-08-19T05:54:40.348636",
     "status": "completed"
    },
    "tags": []
   },
   "outputs": [
    {
     "data": {
      "text/markdown": [],
      "text/plain": [
       "<learntools.core.constants.PlaceholderValue at 0x79d10c5f0c10>"
      ]
     },
     "execution_count": 5,
     "metadata": {},
     "output_type": "execute_result"
    }
   ],
   "source": [
    "# Print the data\n",
    "____ # Your code here"
   ]
  },
  {
   "cell_type": "markdown",
   "id": "20444a8a",
   "metadata": {
    "papermill": {
     "duration": 0.008119,
     "end_time": "2024-08-19T05:54:40.384110",
     "exception": false,
     "start_time": "2024-08-19T05:54:40.375991",
     "status": "completed"
    },
    "tags": []
   },
   "source": [
    "The dataset that you've just printed shows the average score, by platform and genre.  Use the data to answer the questions below."
   ]
  },
  {
   "cell_type": "code",
   "execution_count": 6,
   "id": "9e6470e3",
   "metadata": {
    "execution": {
     "iopub.execute_input": "2024-08-19T05:54:40.402899Z",
     "iopub.status.busy": "2024-08-19T05:54:40.402496Z",
     "iopub.status.idle": "2024-08-19T05:54:40.413277Z",
     "shell.execute_reply": "2024-08-19T05:54:40.411858Z"
    },
    "papermill": {
     "duration": 0.023194,
     "end_time": "2024-08-19T05:54:40.416014",
     "exception": false,
     "start_time": "2024-08-19T05:54:40.392820",
     "status": "completed"
    },
    "tags": []
   },
   "outputs": [
    {
     "data": {
      "application/javascript": [
       "parent.postMessage({\"jupyterEvent\": \"custom.exercise_interaction\", \"data\": {\"outcomeType\": 4, \"interactionType\": 1, \"questionType\": 1, \"questionId\": \"2_ReviewData\", \"learnToolsVersion\": \"0.3.4\", \"valueTowardsCompletion\": 0.0, \"failureMessage\": \"\", \"exceptionClass\": \"\", \"trace\": \"\"}}, \"*\")"
      ],
      "text/plain": [
       "<IPython.core.display.Javascript object>"
      ]
     },
     "metadata": {},
     "output_type": "display_data"
    },
    {
     "data": {
      "text/markdown": [
       "<span style=\"color:#ccaa33\">Check:</span> When you've updated the starter code, `check()` will tell you whether your code is correct. You need to update the code that creates variables `high_score`, `worst_genre`"
      ],
      "text/plain": [
       "Check: When you've updated the starter code, `check()` will tell you whether your code is correct. You need to update the code that creates variables `high_score`, `worst_genre`"
      ]
     },
     "metadata": {},
     "output_type": "display_data"
    }
   ],
   "source": [
    "# Fill in the line below: What is the highest average score received by PC games,\n",
    "# for any genre?\n",
    "high_score = ____\n",
    "\n",
    "# Fill in the line below: On the Playstation Vita platform, which genre has the \n",
    "# lowest average score? Please provide the name of the column, and put your answer \n",
    "# in single quotes (e.g., 'Action', 'Adventure', 'Fighting', etc.)\n",
    "worst_genre = ____\n",
    "\n",
    "# Check your answers\n",
    "step_2.check()"
   ]
  },
  {
   "cell_type": "code",
   "execution_count": 7,
   "id": "5ce2c216",
   "metadata": {
    "execution": {
     "iopub.execute_input": "2024-08-19T05:54:40.435897Z",
     "iopub.status.busy": "2024-08-19T05:54:40.435418Z",
     "iopub.status.idle": "2024-08-19T05:54:40.441005Z",
     "shell.execute_reply": "2024-08-19T05:54:40.439685Z"
    },
    "papermill": {
     "duration": 0.018815,
     "end_time": "2024-08-19T05:54:40.443630",
     "exception": false,
     "start_time": "2024-08-19T05:54:40.424815",
     "status": "completed"
    },
    "tags": []
   },
   "outputs": [],
   "source": [
    "# Lines below will give you a hint or solution code\n",
    "#step_2.hint()\n",
    "#step_2.solution()"
   ]
  },
  {
   "cell_type": "markdown",
   "id": "b1101891",
   "metadata": {
    "papermill": {
     "duration": 0.008507,
     "end_time": "2024-08-19T05:54:40.461864",
     "exception": false,
     "start_time": "2024-08-19T05:54:40.453357",
     "status": "completed"
    },
    "tags": []
   },
   "source": [
    "## Step 3: Which platform is best?\n",
    "\n",
    "Since you can remember, your favorite video game has been [**Mario Kart Wii**](https://www.ign.com/games/mario-kart-wii), a racing game released for the Wii platform in 2008.  And, IGN agrees with you that it is a great game -- their rating for this game is a whopping 8.9!  Inspired by the success of this game, you're considering creating your very own racing game for the Wii platform.\n",
    "\n",
    "#### Part A\n",
    "\n",
    "Create a bar chart that shows the average score for **racing** games, for each platform.  Your chart should have one bar for each platform. "
   ]
  },
  {
   "cell_type": "code",
   "execution_count": 8,
   "id": "67890494",
   "metadata": {
    "execution": {
     "iopub.execute_input": "2024-08-19T05:54:40.481610Z",
     "iopub.status.busy": "2024-08-19T05:54:40.480735Z",
     "iopub.status.idle": "2024-08-19T05:54:40.504420Z",
     "shell.execute_reply": "2024-08-19T05:54:40.503162Z"
    },
    "papermill": {
     "duration": 0.036688,
     "end_time": "2024-08-19T05:54:40.507263",
     "exception": false,
     "start_time": "2024-08-19T05:54:40.470575",
     "status": "completed"
    },
    "tags": []
   },
   "outputs": [
    {
     "data": {
      "application/javascript": [
       "parent.postMessage({\"jupyterEvent\": \"custom.exercise_interaction\", \"data\": {\"outcomeType\": 2, \"failureMessage\": \"Please write code to create a bar chart.\", \"interactionType\": 1, \"questionType\": 2, \"questionId\": \"3.1_PlotRacing\", \"learnToolsVersion\": \"0.3.4\", \"valueTowardsCompletion\": 0.0, \"exceptionClass\": \"\", \"trace\": \"\"}}, \"*\")"
      ],
      "text/plain": [
       "<IPython.core.display.Javascript object>"
      ]
     },
     "metadata": {},
     "output_type": "display_data"
    },
    {
     "data": {
      "text/markdown": [
       "<span style=\"color:#cc3333\">Incorrect:</span> Please write code to create a bar chart."
      ],
      "text/plain": [
       "Incorrect: Please write code to create a bar chart."
      ]
     },
     "metadata": {},
     "output_type": "display_data"
    },
    {
     "data": {
      "text/plain": [
       "<Figure size 640x480 with 0 Axes>"
      ]
     },
     "metadata": {},
     "output_type": "display_data"
    }
   ],
   "source": [
    "# Bar chart showing average score for racing games by platform\n",
    "____ # Your code here\n",
    "\n",
    "# Check your answer\n",
    "step_3.a.check()"
   ]
  },
  {
   "cell_type": "code",
   "execution_count": 9,
   "id": "32bdf6a0",
   "metadata": {
    "execution": {
     "iopub.execute_input": "2024-08-19T05:54:40.527752Z",
     "iopub.status.busy": "2024-08-19T05:54:40.527360Z",
     "iopub.status.idle": "2024-08-19T05:54:40.532625Z",
     "shell.execute_reply": "2024-08-19T05:54:40.531339Z"
    },
    "papermill": {
     "duration": 0.01879,
     "end_time": "2024-08-19T05:54:40.535442",
     "exception": false,
     "start_time": "2024-08-19T05:54:40.516652",
     "status": "completed"
    },
    "tags": []
   },
   "outputs": [],
   "source": [
    "# Lines below will give you a hint or solution code\n",
    "#step_3.a.hint()\n",
    "#step_3.a.solution_plot()"
   ]
  },
  {
   "cell_type": "markdown",
   "id": "ae4b09cc",
   "metadata": {
    "papermill": {
     "duration": 0.009382,
     "end_time": "2024-08-19T05:54:40.554963",
     "exception": false,
     "start_time": "2024-08-19T05:54:40.545581",
     "status": "completed"
    },
    "tags": []
   },
   "source": [
    "#### Part B\n",
    "\n",
    "Based on the bar chart, do you expect a racing game for the **Wii** platform to receive a high rating?  If not, what gaming platform seems to be the best alternative?"
   ]
  },
  {
   "cell_type": "code",
   "execution_count": 10,
   "id": "53e3b9be",
   "metadata": {
    "execution": {
     "iopub.execute_input": "2024-08-19T05:54:40.576117Z",
     "iopub.status.busy": "2024-08-19T05:54:40.575702Z",
     "iopub.status.idle": "2024-08-19T05:54:40.580962Z",
     "shell.execute_reply": "2024-08-19T05:54:40.579535Z"
    },
    "papermill": {
     "duration": 0.018707,
     "end_time": "2024-08-19T05:54:40.583549",
     "exception": false,
     "start_time": "2024-08-19T05:54:40.564842",
     "status": "completed"
    },
    "tags": []
   },
   "outputs": [],
   "source": [
    "#step_3.b.hint()"
   ]
  },
  {
   "cell_type": "code",
   "execution_count": 11,
   "id": "0097d9b4",
   "metadata": {
    "execution": {
     "iopub.execute_input": "2024-08-19T05:54:40.604524Z",
     "iopub.status.busy": "2024-08-19T05:54:40.604102Z",
     "iopub.status.idle": "2024-08-19T05:54:40.613428Z",
     "shell.execute_reply": "2024-08-19T05:54:40.612331Z"
    },
    "papermill": {
     "duration": 0.022838,
     "end_time": "2024-08-19T05:54:40.616048",
     "exception": false,
     "start_time": "2024-08-19T05:54:40.593210",
     "status": "completed"
    },
    "tags": []
   },
   "outputs": [
    {
     "data": {
      "application/javascript": [
       "parent.postMessage({\"jupyterEvent\": \"custom.exercise_interaction\", \"data\": {\"interactionType\": 3, \"questionType\": 4, \"questionId\": \"3.2_ThinkRacing\", \"learnToolsVersion\": \"0.3.4\", \"valueTowardsCompletion\": 0.0, \"failureMessage\": \"\", \"exceptionClass\": \"\", \"trace\": \"\", \"outcomeType\": 4}}, \"*\")"
      ],
      "text/plain": [
       "<IPython.core.display.Javascript object>"
      ]
     },
     "metadata": {},
     "output_type": "display_data"
    },
    {
     "data": {
      "text/markdown": [
       "<span style=\"color:#33cc99\">Solution:</span> Based on the data, we should not expect a racing game for the Wii platform to receive a high rating.  In fact, on average, racing games for Wii score lower than any other platform.  Xbox One seems to be the best alternative, since it has the highest average ratings."
      ],
      "text/plain": [
       "Solution: Based on the data, we should not expect a racing game for the Wii platform to receive a high rating.  In fact, on average, racing games for Wii score lower than any other platform.  Xbox One seems to be the best alternative, since it has the highest average ratings."
      ]
     },
     "metadata": {},
     "output_type": "display_data"
    }
   ],
   "source": [
    "# Check your answer (Run this code cell to receive credit!)\n",
    "step_3.b.solution()"
   ]
  },
  {
   "cell_type": "markdown",
   "id": "51799199",
   "metadata": {
    "papermill": {
     "duration": 0.01051,
     "end_time": "2024-08-19T05:54:40.637510",
     "exception": false,
     "start_time": "2024-08-19T05:54:40.627000",
     "status": "completed"
    },
    "tags": []
   },
   "source": [
    "## Step 4: All possible combinations!\n",
    "\n",
    "Eventually, you decide against creating a racing game for Wii, but you're still committed to creating your own video game!  Since your gaming interests are pretty broad (_... you generally love most video games_), you decide to use the IGN data to inform your new choice of genre and platform.\n",
    "\n",
    "#### Part A\n",
    "\n",
    "Use the data to create a heatmap of average score by genre and platform.  "
   ]
  },
  {
   "cell_type": "code",
   "execution_count": 12,
   "id": "6e3a6126",
   "metadata": {
    "execution": {
     "iopub.execute_input": "2024-08-19T05:54:40.660162Z",
     "iopub.status.busy": "2024-08-19T05:54:40.658961Z",
     "iopub.status.idle": "2024-08-19T05:54:40.676238Z",
     "shell.execute_reply": "2024-08-19T05:54:40.674762Z"
    },
    "papermill": {
     "duration": 0.031498,
     "end_time": "2024-08-19T05:54:40.679121",
     "exception": false,
     "start_time": "2024-08-19T05:54:40.647623",
     "status": "completed"
    },
    "tags": []
   },
   "outputs": [
    {
     "data": {
      "application/javascript": [
       "parent.postMessage({\"jupyterEvent\": \"custom.exercise_interaction\", \"data\": {\"outcomeType\": 2, \"failureMessage\": \"Please write code to create a heatmap.\", \"interactionType\": 1, \"questionType\": 2, \"questionId\": \"4.1_PlotHeat\", \"learnToolsVersion\": \"0.3.4\", \"valueTowardsCompletion\": 0.0, \"exceptionClass\": \"\", \"trace\": \"\"}}, \"*\")"
      ],
      "text/plain": [
       "<IPython.core.display.Javascript object>"
      ]
     },
     "metadata": {},
     "output_type": "display_data"
    },
    {
     "data": {
      "text/markdown": [
       "<span style=\"color:#cc3333\">Incorrect:</span> Please write code to create a heatmap."
      ],
      "text/plain": [
       "Incorrect: Please write code to create a heatmap."
      ]
     },
     "metadata": {},
     "output_type": "display_data"
    },
    {
     "data": {
      "text/plain": [
       "<Figure size 640x480 with 0 Axes>"
      ]
     },
     "metadata": {},
     "output_type": "display_data"
    }
   ],
   "source": [
    "# Heatmap showing average game score by platform and genre\n",
    "____ # Your code here\n",
    "\n",
    "# Check your answer\n",
    "step_4.a.check()"
   ]
  },
  {
   "cell_type": "code",
   "execution_count": 13,
   "id": "7281b538",
   "metadata": {
    "execution": {
     "iopub.execute_input": "2024-08-19T05:54:40.702378Z",
     "iopub.status.busy": "2024-08-19T05:54:40.701997Z",
     "iopub.status.idle": "2024-08-19T05:54:40.707428Z",
     "shell.execute_reply": "2024-08-19T05:54:40.706232Z"
    },
    "papermill": {
     "duration": 0.019892,
     "end_time": "2024-08-19T05:54:40.709960",
     "exception": false,
     "start_time": "2024-08-19T05:54:40.690068",
     "status": "completed"
    },
    "tags": []
   },
   "outputs": [],
   "source": [
    "# Lines below will give you a hint or solution code\n",
    "#step_4.a.hint()\n",
    "#step_4.a.solution_plot()"
   ]
  },
  {
   "cell_type": "markdown",
   "id": "ec7190ae",
   "metadata": {
    "papermill": {
     "duration": 0.010336,
     "end_time": "2024-08-19T05:54:40.731513",
     "exception": false,
     "start_time": "2024-08-19T05:54:40.721177",
     "status": "completed"
    },
    "tags": []
   },
   "source": [
    "#### Part B\n",
    "\n",
    "Which combination of genre and platform receives the highest average ratings?  Which combination receives the lowest average rankings?"
   ]
  },
  {
   "cell_type": "code",
   "execution_count": 14,
   "id": "883ee051",
   "metadata": {
    "execution": {
     "iopub.execute_input": "2024-08-19T05:54:40.754449Z",
     "iopub.status.busy": "2024-08-19T05:54:40.754038Z",
     "iopub.status.idle": "2024-08-19T05:54:40.759451Z",
     "shell.execute_reply": "2024-08-19T05:54:40.758238Z"
    },
    "papermill": {
     "duration": 0.020051,
     "end_time": "2024-08-19T05:54:40.762107",
     "exception": false,
     "start_time": "2024-08-19T05:54:40.742056",
     "status": "completed"
    },
    "tags": []
   },
   "outputs": [],
   "source": [
    "#step_4.b.hint()"
   ]
  },
  {
   "cell_type": "code",
   "execution_count": 15,
   "id": "8b524973",
   "metadata": {
    "execution": {
     "iopub.execute_input": "2024-08-19T05:54:40.785325Z",
     "iopub.status.busy": "2024-08-19T05:54:40.784888Z",
     "iopub.status.idle": "2024-08-19T05:54:40.794935Z",
     "shell.execute_reply": "2024-08-19T05:54:40.793553Z"
    },
    "papermill": {
     "duration": 0.024774,
     "end_time": "2024-08-19T05:54:40.797688",
     "exception": false,
     "start_time": "2024-08-19T05:54:40.772914",
     "status": "completed"
    },
    "tags": []
   },
   "outputs": [
    {
     "data": {
      "application/javascript": [
       "parent.postMessage({\"jupyterEvent\": \"custom.exercise_interaction\", \"data\": {\"interactionType\": 3, \"questionType\": 4, \"questionId\": \"4.2_ThinkHeat\", \"learnToolsVersion\": \"0.3.4\", \"valueTowardsCompletion\": 0.0, \"failureMessage\": \"\", \"exceptionClass\": \"\", \"trace\": \"\", \"outcomeType\": 4}}, \"*\")"
      ],
      "text/plain": [
       "<IPython.core.display.Javascript object>"
      ]
     },
     "metadata": {},
     "output_type": "display_data"
    },
    {
     "data": {
      "text/markdown": [
       "<span style=\"color:#33cc99\">Solution:</span> **Simulation** games for **Playstation 4** receive the highest average ratings (9.2). **Shooting** and **Fighting** games for **Game Boy Color** receive the lowest average rankings (4.5)."
      ],
      "text/plain": [
       "Solution: **Simulation** games for **Playstation 4** receive the highest average ratings (9.2). **Shooting** and **Fighting** games for **Game Boy Color** receive the lowest average rankings (4.5)."
      ]
     },
     "metadata": {},
     "output_type": "display_data"
    }
   ],
   "source": [
    "# Check your answer (Run this code cell to receive credit!)\n",
    "step_4.b.solution()"
   ]
  },
  {
   "cell_type": "markdown",
   "id": "3203ee0f",
   "metadata": {
    "papermill": {
     "duration": 0.010787,
     "end_time": "2024-08-19T05:54:40.819463",
     "exception": false,
     "start_time": "2024-08-19T05:54:40.808676",
     "status": "completed"
    },
    "tags": []
   },
   "source": [
    "# Keep going\n",
    "\n",
    "Move on to learn all about **[scatter plots](https://www.kaggle.com/alexisbcook/scatter-plots)**!"
   ]
  },
  {
   "cell_type": "markdown",
   "id": "3d1bbd9e",
   "metadata": {
    "papermill": {
     "duration": 0.010684,
     "end_time": "2024-08-19T05:54:40.841332",
     "exception": false,
     "start_time": "2024-08-19T05:54:40.830648",
     "status": "completed"
    },
    "tags": []
   },
   "source": [
    "---\n",
    "\n",
    "\n",
    "\n",
    "\n",
    "*Have questions or comments? Visit the [course discussion forum](https://www.kaggle.com/learn/data-visualization/discussion) to chat with other learners.*"
   ]
  }
 ],
 "metadata": {
  "kaggle": {
   "accelerator": "none",
   "dataSources": [
    {
     "datasetId": 116573,
     "sourceId": 3551030,
     "sourceType": "datasetVersion"
    }
   ],
   "isGpuEnabled": false,
   "isInternetEnabled": false,
   "language": "python",
   "sourceType": "notebook"
  },
  "kernelspec": {
   "display_name": "Python 3",
   "language": "python",
   "name": "python3"
  },
  "language_info": {
   "codemirror_mode": {
    "name": "ipython",
    "version": 3
   },
   "file_extension": ".py",
   "mimetype": "text/x-python",
   "name": "python",
   "nbconvert_exporter": "python",
   "pygments_lexer": "ipython3",
   "version": "3.10.13"
  },
  "papermill": {
   "default_parameters": {},
   "duration": 8.304516,
   "end_time": "2024-08-19T05:54:41.475600",
   "environment_variables": {},
   "exception": null,
   "input_path": "__notebook__.ipynb",
   "output_path": "__notebook__.ipynb",
   "parameters": {},
   "start_time": "2024-08-19T05:54:33.171084",
   "version": "2.5.0"
  }
 },
 "nbformat": 4,
 "nbformat_minor": 5
}
